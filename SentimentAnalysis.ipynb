{
  "nbformat": 4,
  "nbformat_minor": 0,
  "metadata": {
    "colab": {
      "name": "SentimentAnalysis.ipynb",
      "provenance": [],
      "collapsed_sections": [
        "0ShputfAB2Pq",
        "xA-HZD_cX1HT",
        "PsBYzs-0PAMz",
        "2Kg6X_YO08cr",
        "fulEUnGS0_Bh"
      ],
      "authorship_tag": "ABX9TyNd62edEgvookkGmEmfLq1+",
      "include_colab_link": true
    },
    "kernelspec": {
      "name": "python3",
      "display_name": "Python 3"
    }
  },
  "cells": [
    {
      "cell_type": "markdown",
      "metadata": {
        "id": "view-in-github",
        "colab_type": "text"
      },
      "source": [
        "<a href=\"https://colab.research.google.com/github/PavanReddy28/CRuX/blob/main/SentimentAnalysis.ipynb\" target=\"_parent\"><img src=\"https://colab.research.google.com/assets/colab-badge.svg\" alt=\"Open In Colab\"/></a>"
      ]
    },
    {
      "cell_type": "markdown",
      "metadata": {
        "id": "8zOhpSkBB28-"
      },
      "source": [
        "## Packages"
      ]
    },
    {
      "cell_type": "code",
      "metadata": {
        "id": "lxg7HM77hna1"
      },
      "source": [
        "import nltk"
      ],
      "execution_count": 169,
      "outputs": []
    },
    {
      "cell_type": "code",
      "metadata": {
        "colab": {
          "base_uri": "https://localhost:8080/"
        },
        "id": "JGsj9S8whpfR",
        "outputId": "7695d786-8d66-4411-bc71-a64d0921fada"
      },
      "source": [
        "nltk.download('wordnet')\r\n",
        "nltk.download('stopwords')"
      ],
      "execution_count": 170,
      "outputs": [
        {
          "output_type": "stream",
          "text": [
            "[nltk_data] Downloading package wordnet to /root/nltk_data...\n",
            "[nltk_data]   Package wordnet is already up-to-date!\n",
            "[nltk_data] Downloading package stopwords to /root/nltk_data...\n",
            "[nltk_data]   Package stopwords is already up-to-date!\n"
          ],
          "name": "stdout"
        },
        {
          "output_type": "execute_result",
          "data": {
            "text/plain": [
              "True"
            ]
          },
          "metadata": {
            "tags": []
          },
          "execution_count": 170
        }
      ]
    },
    {
      "cell_type": "code",
      "metadata": {
        "id": "3tRdJPRHSSpq"
      },
      "source": [
        "import pandas as pd\r\n",
        "import numpy as np\r\n",
        "from matplotlib import pyplot as plt\r\n",
        "import time\r\n",
        "import torch\r\n",
        "from scipy.sparse import csr_matrix\r\n",
        "from sklearn.utils.extmath import safe_sparse_dot\r\n",
        "\r\n",
        "\r\n",
        "import re\r\n",
        "from nltk import WordNetLemmatizer\r\n",
        "from sklearn.feature_extraction.text import TfidfVectorizer\r\n",
        "from nltk.corpus import stopwords\r\n",
        "\r\n",
        "import seaborn as sns\r\n",
        "\r\n",
        "from sklearn.model_selection import train_test_split\r\n",
        "from sklearn.metrics import classification_report, confusion_matrix\r\n",
        "import pickle"
      ],
      "execution_count": 317,
      "outputs": []
    },
    {
      "cell_type": "markdown",
      "metadata": {
        "id": "0ShputfAB2Pq"
      },
      "source": [
        "## Importing data"
      ]
    },
    {
      "cell_type": "code",
      "metadata": {
        "id": "7xWI8OYUZNUc",
        "colab": {
          "base_uri": "https://localhost:8080/"
        },
        "outputId": "b9176e27-58af-4dac-f535-af5daf506636"
      },
      "source": [
        "from google.colab import drive\r\n",
        "drive.mount('/gdrive')"
      ],
      "execution_count": 172,
      "outputs": [
        {
          "output_type": "stream",
          "text": [
            "Drive already mounted at /gdrive; to attempt to forcibly remount, call drive.mount(\"/gdrive\", force_remount=True).\n"
          ],
          "name": "stdout"
        }
      ]
    },
    {
      "cell_type": "markdown",
      "metadata": {
        "id": "_7b37UP2SKW4"
      },
      "source": [
        "### Sentiment140 Dataset"
      ]
    },
    {
      "cell_type": "markdown",
      "metadata": {
        "id": "Ll0HW-mjND4F"
      },
      "source": [
        "Using the dataset **Sentiment140** contatining **1,600,000** tweets extracted using twitter api. \r\n",
        "<br>The tweets are annoted as '0 : Negative', '2 : Neutral' and '4 : Positive'.\r\n",
        "<br>I have only used the positive and negative tweets to train my model."
      ]
    },
    {
      "cell_type": "code",
      "metadata": {
        "id": "v1NTvgd-Mgsm"
      },
      "source": [
        "twitter_dataset = pd.read_csv('/gdrive/My Drive/Inductions/training.1600000.processed.noemoticon.csv', encoding=\"ISO-8859-1\", names=[\"sentiment\", \"ids\", \"date\", \"flag\", \"user\", \"text\"])"
      ],
      "execution_count": 173,
      "outputs": []
    },
    {
      "cell_type": "code",
      "metadata": {
        "colab": {
          "base_uri": "https://localhost:8080/",
          "height": 0
        },
        "id": "Ortz5Y-cPt2L",
        "outputId": "b89cce4a-8241-464b-e609-98683123dcba"
      },
      "source": [
        "twitter_dataset.head()"
      ],
      "execution_count": 174,
      "outputs": [
        {
          "output_type": "execute_result",
          "data": {
            "text/html": [
              "<div>\n",
              "<style scoped>\n",
              "    .dataframe tbody tr th:only-of-type {\n",
              "        vertical-align: middle;\n",
              "    }\n",
              "\n",
              "    .dataframe tbody tr th {\n",
              "        vertical-align: top;\n",
              "    }\n",
              "\n",
              "    .dataframe thead th {\n",
              "        text-align: right;\n",
              "    }\n",
              "</style>\n",
              "<table border=\"1\" class=\"dataframe\">\n",
              "  <thead>\n",
              "    <tr style=\"text-align: right;\">\n",
              "      <th></th>\n",
              "      <th>sentiment</th>\n",
              "      <th>ids</th>\n",
              "      <th>date</th>\n",
              "      <th>flag</th>\n",
              "      <th>user</th>\n",
              "      <th>text</th>\n",
              "    </tr>\n",
              "  </thead>\n",
              "  <tbody>\n",
              "    <tr>\n",
              "      <th>0</th>\n",
              "      <td>0</td>\n",
              "      <td>1467810369</td>\n",
              "      <td>Mon Apr 06 22:19:45 PDT 2009</td>\n",
              "      <td>NO_QUERY</td>\n",
              "      <td>_TheSpecialOne_</td>\n",
              "      <td>@switchfoot http://twitpic.com/2y1zl - Awww, t...</td>\n",
              "    </tr>\n",
              "    <tr>\n",
              "      <th>1</th>\n",
              "      <td>0</td>\n",
              "      <td>1467810672</td>\n",
              "      <td>Mon Apr 06 22:19:49 PDT 2009</td>\n",
              "      <td>NO_QUERY</td>\n",
              "      <td>scotthamilton</td>\n",
              "      <td>is upset that he can't update his Facebook by ...</td>\n",
              "    </tr>\n",
              "    <tr>\n",
              "      <th>2</th>\n",
              "      <td>0</td>\n",
              "      <td>1467810917</td>\n",
              "      <td>Mon Apr 06 22:19:53 PDT 2009</td>\n",
              "      <td>NO_QUERY</td>\n",
              "      <td>mattycus</td>\n",
              "      <td>@Kenichan I dived many times for the ball. Man...</td>\n",
              "    </tr>\n",
              "    <tr>\n",
              "      <th>3</th>\n",
              "      <td>0</td>\n",
              "      <td>1467811184</td>\n",
              "      <td>Mon Apr 06 22:19:57 PDT 2009</td>\n",
              "      <td>NO_QUERY</td>\n",
              "      <td>ElleCTF</td>\n",
              "      <td>my whole body feels itchy and like its on fire</td>\n",
              "    </tr>\n",
              "    <tr>\n",
              "      <th>4</th>\n",
              "      <td>0</td>\n",
              "      <td>1467811193</td>\n",
              "      <td>Mon Apr 06 22:19:57 PDT 2009</td>\n",
              "      <td>NO_QUERY</td>\n",
              "      <td>Karoli</td>\n",
              "      <td>@nationwideclass no, it's not behaving at all....</td>\n",
              "    </tr>\n",
              "  </tbody>\n",
              "</table>\n",
              "</div>"
            ],
            "text/plain": [
              "   sentiment  ...                                               text\n",
              "0          0  ...  @switchfoot http://twitpic.com/2y1zl - Awww, t...\n",
              "1          0  ...  is upset that he can't update his Facebook by ...\n",
              "2          0  ...  @Kenichan I dived many times for the ball. Man...\n",
              "3          0  ...    my whole body feels itchy and like its on fire \n",
              "4          0  ...  @nationwideclass no, it's not behaving at all....\n",
              "\n",
              "[5 rows x 6 columns]"
            ]
          },
          "metadata": {
            "tags": []
          },
          "execution_count": 174
        }
      ]
    },
    {
      "cell_type": "code",
      "metadata": {
        "colab": {
          "base_uri": "https://localhost:8080/"
        },
        "id": "6EPILBeXA1ga",
        "outputId": "7e5d1068-f4cd-4900-ccf3-a50bd84c039f"
      },
      "source": [
        "twitter_dataset['sentiment'].value_counts()"
      ],
      "execution_count": 175,
      "outputs": [
        {
          "output_type": "execute_result",
          "data": {
            "text/plain": [
              "4    800000\n",
              "0    800000\n",
              "Name: sentiment, dtype: int64"
            ]
          },
          "metadata": {
            "tags": []
          },
          "execution_count": 175
        }
      ]
    },
    {
      "cell_type": "markdown",
      "metadata": {
        "id": "J442IpvYXwVf"
      },
      "source": [
        "## Data Preprocessing"
      ]
    },
    {
      "cell_type": "code",
      "metadata": {
        "id": "OroosyT-PzsA"
      },
      "source": [
        "sentiment, text = twitter_dataset['sentiment'], twitter_dataset['text']"
      ],
      "execution_count": 176,
      "outputs": []
    },
    {
      "cell_type": "markdown",
      "metadata": {
        "id": "xA-HZD_cX1HT"
      },
      "source": [
        "### **Sentiment**\r\n",
        "\r\n",
        "Replacing 4's to 1's (Representation of Positive Data)."
      ]
    },
    {
      "cell_type": "code",
      "metadata": {
        "colab": {
          "base_uri": "https://localhost:8080/"
        },
        "id": "cxf6J3rTPzl-",
        "outputId": "232dc627-d0e6-4e66-e188-23104ce65afe"
      },
      "source": [
        "sentiment.value_counts()"
      ],
      "execution_count": 177,
      "outputs": [
        {
          "output_type": "execute_result",
          "data": {
            "text/plain": [
              "4    800000\n",
              "0    800000\n",
              "Name: sentiment, dtype: int64"
            ]
          },
          "metadata": {
            "tags": []
          },
          "execution_count": 177
        }
      ]
    },
    {
      "cell_type": "code",
      "metadata": {
        "id": "GLkfUuUWV8V2"
      },
      "source": [
        "sentiment = sentiment.replace(4,1)"
      ],
      "execution_count": 178,
      "outputs": []
    },
    {
      "cell_type": "code",
      "metadata": {
        "colab": {
          "base_uri": "https://localhost:8080/"
        },
        "id": "WR69l6HjW0FK",
        "outputId": "b7b64563-2a23-4504-bbeb-34764ff45e11"
      },
      "source": [
        "sentiment.value_counts()"
      ],
      "execution_count": 179,
      "outputs": [
        {
          "output_type": "execute_result",
          "data": {
            "text/plain": [
              "1    800000\n",
              "0    800000\n",
              "Name: sentiment, dtype: int64"
            ]
          },
          "metadata": {
            "tags": []
          },
          "execution_count": 179
        }
      ]
    },
    {
      "cell_type": "code",
      "metadata": {
        "id": "f1RRs00rW86V"
      },
      "source": [
        ""
      ],
      "execution_count": 179,
      "outputs": []
    },
    {
      "cell_type": "markdown",
      "metadata": {
        "id": "ZwcAJypvYI5v"
      },
      "source": [
        "### **Text**"
      ]
    },
    {
      "cell_type": "markdown",
      "metadata": {
        "id": "k5GwHuEuoLvs"
      },
      "source": [
        "Preprocessing of text data include:\r\n",
        "<ol type = \"1\">\r\n",
        "<li>Converting all the data to **Lower Case**</li>\r\n",
        "         <li>Replaceing **User ID's** (\"@colab\", etc.) with \"USER\"</li>\r\n",
        "         <li>Replacing **Emojis** to text representation (According to Emoji Dictionary).</li>\r\n",
        "         <li>Replacing **URLs** (starting with \"http\", \"www\", etc.) with \"URL\"</li>\r\n",
        "         <li>Removing **Non-Alphabets**</li>\r\n",
        "         <li>**Tokenization** : Splitting of the tweets to, list of words.</li>\r\n",
        "         <li>**Lemmetization** : Grouping together the different forms of a work so that they can be analyzed as a single word. Done using NLTK Library.\r\n",
        "</li>\r\n",
        "<li>Removing letters repeated more than 3 times.</li>"
      ]
    },
    {
      "cell_type": "code",
      "metadata": {
        "id": "sWsftnx-c4Gp"
      },
      "source": [
        "#Emojis taken from the internet.\r\n",
        "\r\n",
        "emojis = {':)': 'smile', ':-)': 'smile', ';d': 'wink', ':-E': 'vampire', ':(': 'sad', \r\n",
        "          ':-(': 'sad', ':-<': 'sad', ':P': 'raspberry', ':O': 'surprised',\r\n",
        "          ':-@': 'shocked', ':@': 'shocked',':-$': 'confused', ':\\\\': 'annoyed', \r\n",
        "          ':#': 'mute', ':X': 'mute', ':^)': 'smile', ':-&': 'confused', '$_$': 'greedy',\r\n",
        "          '@@': 'eyeroll', ':-!': 'confused', ':-D': 'smile', ':-0': 'yell', 'O.o': 'confused',\r\n",
        "          '<(-_-)>': 'robot', 'd[-_-]b': 'dj', \":'-)\": 'sadsmile', ';)': 'wink', \r\n",
        "          ';-)': 'wink', 'O:-)': 'angel','O*-)': 'angel','(:-D': 'gossip', '=^.^=': 'cat'}"
      ],
      "execution_count": 180,
      "outputs": []
    },
    {
      "cell_type": "code",
      "metadata": {
        "id": "CH85JF7IbsNB"
      },
      "source": [
        "def data_preprocess(textdata):\r\n",
        "\r\n",
        "  lemmatizer = WordNetLemmatizer()\r\n",
        "\r\n",
        "  Processed =[]\r\n",
        "\r\n",
        "  urlPattern = r\"((http://)[^ ]*|(https://)[^ ]*|( www\\.)[^ ]*)\"\r\n",
        "  userPattern = '@[^\\s]+'\r\n",
        "  alphaPattern = r\"[^\\w]\"\r\n",
        "  sequenceFind = r\"(.)\\1\\1+\"\r\n",
        "  sequenceReplace = r\"\\1\\1\"\r\n",
        "\r\n",
        "  for tweet in textdata:\r\n",
        "\r\n",
        "    tweet = tweet.lower()\r\n",
        "\r\n",
        "    tweet = re.sub(urlPattern, 'URL ', tweet)\r\n",
        "    tweet = re.sub(userPattern, 'USER ', tweet)\r\n",
        "    tweet = re.sub(alphaPattern, ' ', tweet)\r\n",
        "    tweet = re.sub(sequenceFind, sequenceReplace, tweet)\r\n",
        "\r\n",
        "    for emoji in emojis.keys():\r\n",
        "      tweet = tweet.replace(emoji, \"EMOJI\"+emojis[emoji])\r\n",
        "\r\n",
        "    tweetWords = ''\r\n",
        "    for text in tweet.split():\r\n",
        "      if len(text)>1:\r\n",
        "        text = lemmatizer.lemmatize(text)\r\n",
        "        tweetWords += (text +' ')\r\n",
        "    \r\n",
        "    Processed.append(tweetWords)\r\n",
        "\r\n",
        "  return Processed\r\n"
      ],
      "execution_count": 181,
      "outputs": []
    },
    {
      "cell_type": "code",
      "metadata": {
        "colab": {
          "base_uri": "https://localhost:8080/"
        },
        "id": "eDlk6dcNg0S9",
        "outputId": "c8d7c639-377d-4f87-a3db-7d9d5ebce452"
      },
      "source": [
        "%%time\r\n",
        "text = data_preprocess(text)\r\n",
        "print('Data Processed.')"
      ],
      "execution_count": 182,
      "outputs": [
        {
          "output_type": "stream",
          "text": [
            "Data Processed.\n",
            "CPU times: user 1min 57s, sys: 505 ms, total: 1min 57s\n",
            "Wall time: 1min 58s\n"
          ],
          "name": "stdout"
        }
      ]
    },
    {
      "cell_type": "markdown",
      "metadata": {
        "id": "PsBYzs-0PAMz"
      },
      "source": [
        "### Train Test Split"
      ]
    },
    {
      "cell_type": "code",
      "metadata": {
        "id": "buX2UqZ3hEXb"
      },
      "source": [
        "X_train, X_test, Y_train, Y_test = train_test_split(text, sentiment, train_size = 0.0005,test_size=0.00005, random_state=0)"
      ],
      "execution_count": 261,
      "outputs": []
    },
    {
      "cell_type": "code",
      "metadata": {
        "colab": {
          "base_uri": "https://localhost:8080/"
        },
        "id": "Zjn_fKGLg0ZN",
        "outputId": "0843ef3c-df63-4f9a-8868-cade915463c6"
      },
      "source": [
        "len(Y_train)"
      ],
      "execution_count": 262,
      "outputs": [
        {
          "output_type": "execute_result",
          "data": {
            "text/plain": [
              "800"
            ]
          },
          "metadata": {
            "tags": []
          },
          "execution_count": 262
        }
      ]
    },
    {
      "cell_type": "code",
      "metadata": {
        "colab": {
          "base_uri": "https://localhost:8080/"
        },
        "id": "0dNImZjQPEX4",
        "outputId": "5f97044a-ca64-4008-a7ed-d051dac65a95"
      },
      "source": [
        "X_test[:10]"
      ],
      "execution_count": 263,
      "outputs": [
        {
          "output_type": "execute_result",
          "data": {
            "text/plain": [
              "['want to compete want hard competition want to rally want to feel the power coming out of the engine want to compete ',\n",
              " 'it seems we are stuck on the ground in amarillo they have put ground stop for all flight leaving for denver said update in an hour ',\n",
              " 'where the are my pinking shear rarararrarararr babyproofing while cutting stuff make me stick shear random place amp forget them ',\n",
              " '0ff t0 the meetin hate when ppl v0lunteer my free time grr ',\n",
              " 'reply me pls ',\n",
              " 'USER jazz in india is just honda strategy to prove they can make affordable car for the working class it still doesn fit me ',\n",
              " 'aah met boy he seems nice im happy now ',\n",
              " 'USER URL sport center you guy are too legit to quit wooww ',\n",
              " 'USER not bad bit grumpy cause of exam but generally ok ta ',\n",
              " 'USER can watch it what is it ']"
            ]
          },
          "metadata": {
            "tags": []
          },
          "execution_count": 263
        }
      ]
    },
    {
      "cell_type": "markdown",
      "metadata": {
        "id": "V-I6K2S2kLmi"
      },
      "source": [
        "### **TF-IDF Vectorizer**"
      ]
    },
    {
      "cell_type": "markdown",
      "metadata": {
        "id": "N6H7Fm7-oSgl"
      },
      "source": [
        "The <b>'tfidfVectorizer()'</b> method from the sklearn.feature_extraction package, helps convert a collection of raw documents to a matrix of TF-IDF features.\r\n",
        "\r\n",
        "It returns a list of features (here, words are the features) and their respective TF-IDF (Text Frequency - Inverse Document Frequency) scores.\r\n",
        "<br>\r\n",
        "\r\n",
        "--------------------------------\r\n",
        "\r\n",
        "**Example**:\r\n",
        "<br>\r\n",
        "INPUT: corpus = ['This is the first document.','This document is the second document.','And this is the third one.','Is this the first document?',]\r\n",
        "<br><br>When the above list is passed through the vectorizer the below list is returned.\r\n",
        "<br><br>OUTPUT: ['and', 'document', 'first', 'is', 'one', 'second', 'the', 'third', 'this']\r\n",
        "\r\n",
        "-------------------------------------\r\n",
        "Setting the Parameters in TF-IDF Vectorizer:\r\n",
        "<ol>\r\n",
        "<li>Here, I have set <b>n-gram range</b> to (1,2), so that a max of two words can be taken as key words at once (for example: \"Very Delicious\" will give three features \"Very\", \"Delicious\" and \"Very Delicious\").</li>\r\n",
        "<li>Also I set the number of <b>max_features</b> to 100000, so that only the words with hgher scores  are included in the future analysis.</li>\r\n",
        "</ol>"
      ]
    },
    {
      "cell_type": "code",
      "metadata": {
        "id": "PJx_zd_Fj9Ww"
      },
      "source": [
        "Vectorizer = TfidfVectorizer(ngram_range=(1,2), lowercase=True, max_features=100000, stop_words=list(stopwords.words('english')))"
      ],
      "execution_count": 264,
      "outputs": []
    },
    {
      "cell_type": "code",
      "metadata": {
        "colab": {
          "base_uri": "https://localhost:8080/"
        },
        "id": "Ud-hVNQSoupE",
        "outputId": "962662db-e322-4e25-e377-4bedc027dc61"
      },
      "source": [
        "Vectorizer.fit(X_train)"
      ],
      "execution_count": 265,
      "outputs": [
        {
          "output_type": "execute_result",
          "data": {
            "text/plain": [
              "TfidfVectorizer(analyzer='word', binary=False, decode_error='strict',\n",
              "                dtype=<class 'numpy.float64'>, encoding='utf-8',\n",
              "                input='content', lowercase=True, max_df=1.0,\n",
              "                max_features=100000, min_df=1, ngram_range=(1, 2), norm='l2',\n",
              "                preprocessor=None, smooth_idf=True,\n",
              "                stop_words=['i', 'me', 'my', 'myself', 'we', 'our', 'ours',\n",
              "                            'ourselves', 'you', \"you're\", \"you've\", \"you'll\",\n",
              "                            \"you'd\", 'your', 'yours', 'yourself', 'yourselves',\n",
              "                            'he', 'him', 'his', 'himself', 'she', \"she's\",\n",
              "                            'her', 'hers', 'herself', 'it', \"it's\", 'its',\n",
              "                            'itself', ...],\n",
              "                strip_accents=None, sublinear_tf=False,\n",
              "                token_pattern='(?u)\\\\b\\\\w\\\\w+\\\\b', tokenizer=None, use_idf=True,\n",
              "                vocabulary=None)"
            ]
          },
          "metadata": {
            "tags": []
          },
          "execution_count": 265
        }
      ]
    },
    {
      "cell_type": "code",
      "metadata": {
        "id": "fFLBXQMHpN0O"
      },
      "source": [
        "X_train = Vectorizer.transform(X_train)\r\n",
        "#X_test = Vectorizer.transform(X_test)"
      ],
      "execution_count": 266,
      "outputs": []
    },
    {
      "cell_type": "code",
      "metadata": {
        "colab": {
          "base_uri": "https://localhost:8080/"
        },
        "id": "6eO74JgZ7SQ9",
        "outputId": "7421cc37-f39f-4864-8633-06b6b848e8d3"
      },
      "source": [
        "X_train[:10]"
      ],
      "execution_count": 267,
      "outputs": [
        {
          "output_type": "execute_result",
          "data": {
            "text/plain": [
              "<10x7504 sparse matrix of type '<class 'numpy.float64'>'\n",
              "\twith 148 stored elements in Compressed Sparse Row format>"
            ]
          },
          "metadata": {
            "tags": []
          },
          "execution_count": 267
        }
      ]
    },
    {
      "cell_type": "code",
      "metadata": {
        "colab": {
          "base_uri": "https://localhost:8080/"
        },
        "id": "z37EpbTViasV",
        "outputId": "cfe1a541-6b87-4585-ecf3-deb2aace27c2"
      },
      "source": [
        "#Example using the 1st tweet\r\n",
        "df = pd.DataFrame(X_train[0].T.todense(), index=Vectorizer.get_feature_names(), columns=[\"TF-IDF\"])\r\n",
        "df = df.sort_values('TF-IDF', ascending=False)\r\n",
        "print (df.head(25))"
      ],
      "execution_count": 269,
      "outputs": [
        {
          "output_type": "stream",
          "text": [
            "                  TF-IDF\n",
            "chopping onion  0.198715\n",
            "hair gave       0.198715\n",
            "hand knife      0.198715\n",
            "cut hand        0.198715\n",
            "chopping        0.198715\n",
            "still trying    0.198715\n",
            "trying upload   0.198715\n",
            "aide            0.198715\n",
            "aide cut        0.198715\n",
            "knife chopping  0.198715\n",
            "new hair        0.198715\n",
            "first aide      0.198715\n",
            "pic new         0.198715\n",
            "onion ugh       0.198715\n",
            "onion           0.198715\n",
            "upload pic      0.198715\n",
            "gave first      0.198715\n",
            "knife           0.187193\n",
            "upload          0.187193\n",
            "hand            0.179018\n",
            "gave            0.179018\n",
            "cut             0.179018\n",
            "hair            0.167496\n",
            "trying          0.163115\n",
            "pic             0.163115\n"
          ],
          "name": "stdout"
        }
      ]
    },
    {
      "cell_type": "markdown",
      "metadata": {
        "id": "dv7uwfgLSlFY"
      },
      "source": [
        "## Model"
      ]
    },
    {
      "cell_type": "markdown",
      "metadata": {
        "id": "mKHOox-eSnnL"
      },
      "source": [
        "### Naive Bayes"
      ]
    },
    {
      "cell_type": "markdown",
      "metadata": {
        "id": "-k9EDeZcNkgo"
      },
      "source": [
        "<b>Fit Method</b>\r\n",
        "<br>\r\n",
        "Here TFIDF represents the Text Frequency Inverse Document Frequency Score.\r\n",
        "<br>\r\n",
        "<br>\r\n",
        "$$parameters(pos) =P(W|pos) = \\frac{TFIDF(Word)_{pos} + \\alpha}{\\sum{TFIDF_{pos}} + \\alpha*V }\\tag{2} $$\r\n",
        "<br>\r\n",
        "$$parameters(neg)=P(W|neg) = \\frac{TFIDF_{neg} + \\alpha}{\\sum{TFIDF_{neg}} + \\alpha*V} $$\r\n",
        "\r\n",
        "<br><br>\r\n",
        "\r\n",
        "<b>Predict Method</b>:\r\n",
        "$$P(pos|(w1,w2....wn)) = P(pos)*\\prod_{i=1}^{n}P(w_{i}|pos)\\tag{1} $$$$P(neg|(w1,w2....wn)) = P(neg)*\\prod_{i=1}^{n}P(w_{i}|neg) \r\n",
        "$$\r\n"
      ]
    },
    {
      "cell_type": "code",
      "metadata": {
        "id": "QO1_pYmnSm51"
      },
      "source": [
        "class NaiveBayesAlgo:\r\n",
        "\r\n",
        "  def __init__(self, alpha=1):\r\n",
        "    self.vocab={}\r\n",
        "    self.prob_pos_words = {}\r\n",
        "    self.prob_neg_words = {}  \r\n",
        "    self.pos_score = 0\r\n",
        "    self.neg_score = 0\r\n",
        "    self.pos_prior = 0\r\n",
        "    self.neg_prior = 0\r\n",
        "    self.alpha = alpha\r\n",
        "\r\n",
        "  def vocab_create(self, df, boolVal, li):\r\n",
        "  \r\n",
        "    for word in li:\r\n",
        "      if df.loc[word][0]>0:\r\n",
        "        if word in list(self.vocab.keys()):\r\n",
        "          if boolVal in list(self.vocab[word].keys()):\r\n",
        "            self.vocab[word][boolVal] += df.loc[word][0]\r\n",
        "          else:\r\n",
        "            self.vocab[word][boolVal] = df.loc[word][0]\r\n",
        "        if word not in list(self.vocab.keys()):\r\n",
        "          self.vocab[word] = {boolVal : df.loc[word][0]}\r\n",
        "        \r\n",
        "        if boolVal==1 :\r\n",
        "          self.pos_score += self.vocab[word][boolVal]\r\n",
        "        else:\r\n",
        "          self.neg_score += self.vocab[word][boolVal]\r\n",
        "      else:\r\n",
        "        break\r\n",
        "        \r\n",
        "\r\n",
        "  def fit(self, X, Y, Vectorizer, initialize=False):\r\n",
        "\r\n",
        "    if initialize:\r\n",
        "      self.vocab = {}\r\n",
        "      self.prob_pos_words = {}\r\n",
        "      self.prob_neg_words = {}\r\n",
        "      self.pos_score = 0\r\n",
        "      self.neg_score = 0\r\n",
        "      self.pos_prior = 0\r\n",
        "      self.neg_prior = 0\r\n",
        "\r\n",
        "    for i in range(X.shape[0]):\r\n",
        "      df = pd.DataFrame(X[i].T.todense(), index = Vectorizer.get_feature_names(), columns=['TF-IDF'])\r\n",
        "      df = df.sort_values('TF-IDF', ascending=False)\r\n",
        "      self.vocab_create(df, Y[i], list(Vectorizer.get_feature_names()))  \r\n",
        "      #li = Vectorizer.get_feature_names()\r\n",
        "      #boolVal = Y[i]\r\n",
        "    \r\n",
        "    for word in list(self.vocab.keys()):\r\n",
        "      if 1 in list(self.vocab[word].keys()):\r\n",
        "        self.prob_pos_words[word] = (self.vocab[word][1] + self.alpha) / (self.pos_score + (self.alpha * len(Vectorizer.get_feature_names())))\r\n",
        "      else:\r\n",
        "        self.prob_pos_words[word] = 0\r\n",
        "      if 0 in list(self.vocab[word].keys()):\r\n",
        "        self.prob_neg_words[word] = (self.vocab[word][0] + self.alpha) / (self.neg_score + (self.alpha * len(Vectorizer.get_feature_names())))\r\n",
        "      else:\r\n",
        "        self.prob_neg_words[word] = 0\r\n",
        "      \r\n",
        "    pos_labels = list(Y).count(1)\r\n",
        "    neg_labels = list(Y).count(0)\r\n",
        "\r\n",
        "    self.pos_prior = pos_labels / len(list(Y))\r\n",
        "    self.neg_prior = neg_labels / len(list(Y))\r\n",
        "\r\n",
        "  def predict(self, X):\r\n",
        "    '''\r\n",
        "    Input a csr_matrix containing preprocessed tweets.\r\n",
        "    '''\r\n",
        "    pos_prob = self.pos_prior\r\n",
        "    neg_prob = self.neg_prior\r\n",
        "    y_true=[]\r\n",
        "    for i in range(len(X)):\r\n",
        "      for word in X[i].split():\r\n",
        "        if word in list(self.prob_pos_words.keys()) and self.prob_pos_words[word]>0:\r\n",
        "          pos_prob *= self.prob_pos_words[word]\r\n",
        "        else:\r\n",
        "          pos_prob *= self.alpha / (self.alpha * len(self.vocab))\r\n",
        "        \r\n",
        "        if word in list(self.prob_neg_words.keys()) and self.prob_neg_words[word]>0:\r\n",
        "          neg_prob *= self.prob_neg_words[word]\r\n",
        "        else:\r\n",
        "          neg_prob *= self.alpha / (self.alpha * len(self.vocab))\r\n",
        "        \r\n",
        "      if pos_prob >= neg_prob:\r\n",
        "        y_true.append(1)\r\n",
        "      else:\r\n",
        "        y_true.append(0)\r\n",
        "    return y_true\r\n",
        "\r\n",
        "  \r\n",
        "  def evaluate(self, x_test, y_test):\r\n",
        "    \r\n",
        "    y_pred = self.predict(x_test)\r\n",
        "    print(classification_report(y_test, y_pred))\r\n",
        "\r\n",
        "    cf_matrix = confusion_matrix(y_test, y_pred)\r\n",
        "\r\n",
        "    categories  = ['Negative','Positive']\r\n",
        "    group_names = ['True Neg','False Pos', 'False Neg','True Pos']\r\n",
        "    group_percentages = ['{0:.2%}'.format(value) for value in cf_matrix.flatten() / np.sum(cf_matrix)]\r\n",
        "\r\n",
        "    labels = [f'{v1}\\n{v2}' for v1, v2 in zip(group_names,group_percentages)]\r\n",
        "    labels = np.asarray(labels).reshape(2,2)\r\n",
        "\r\n",
        "    sns.heatmap(cf_matrix, annot = labels, cmap = 'Blues',fmt = '',\r\n",
        "                xticklabels = categories, yticklabels = categories)\r\n",
        "\r\n",
        "    plt.xlabel(\"Predicted values\", fontdict = {'size':14}, labelpad = 10)\r\n",
        "    plt.ylabel(\"Actual values\"   , fontdict = {'size':14}, labelpad = 10)\r\n",
        "    plt.title (\"Confusion Matrix\", fontdict = {'size':18}, pad = 20)"
      ],
      "execution_count": 325,
      "outputs": []
    },
    {
      "cell_type": "markdown",
      "metadata": {
        "id": "2Kg6X_YO08cr"
      },
      "source": [
        "### Training"
      ]
    },
    {
      "cell_type": "code",
      "metadata": {
        "id": "v9Tw6QCV0-dD"
      },
      "source": [
        "NB = NaiveBayesAlgo()"
      ],
      "execution_count": 326,
      "outputs": []
    },
    {
      "cell_type": "code",
      "metadata": {
        "id": "0rei3TtPtFDk"
      },
      "source": [
        "NB.fit(X_train, list(Y_train), Vectorizer, initialize=True)"
      ],
      "execution_count": 327,
      "outputs": []
    },
    {
      "cell_type": "markdown",
      "metadata": {
        "id": "fulEUnGS0_Bh"
      },
      "source": [
        "### Saving Models"
      ]
    },
    {
      "cell_type": "code",
      "metadata": {
        "id": "xlL76_GM1Ak1"
      },
      "source": [
        "file = open('/gdrive/My Drive/Inductions/vectorizer-ngram_1-2.pickle','wb')\r\n",
        "pickle.dump(Vectorizer, file)\r\n",
        "file.close()\r\n",
        "\r\n",
        "file = open('/gdrive/My Drive/Inductions/Sentiment-BNB.pickle','wb')\r\n",
        "pickle.dump(NB, file)\r\n",
        "file.close()"
      ],
      "execution_count": 319,
      "outputs": []
    },
    {
      "cell_type": "markdown",
      "metadata": {
        "id": "mRGH1s4R0Wea"
      },
      "source": [
        "## Evaluation"
      ]
    },
    {
      "cell_type": "code",
      "metadata": {
        "colab": {
          "base_uri": "https://localhost:8080/",
          "height": 530
        },
        "id": "4K59ro7ktP1S",
        "outputId": "72c1670d-978b-42a0-c257-ae7aef014aa9"
      },
      "source": [
        "NB.evaluate(X_test, list(Y_test))"
      ],
      "execution_count": 328,
      "outputs": [
        {
          "output_type": "stream",
          "text": [
            "/usr/local/lib/python3.6/dist-packages/sklearn/metrics/_classification.py:1272: UndefinedMetricWarning: Precision and F-score are ill-defined and being set to 0.0 in labels with no predicted samples. Use `zero_division` parameter to control this behavior.\n",
            "  _warn_prf(average, modifier, msg_start, len(result))\n"
          ],
          "name": "stderr"
        },
        {
          "output_type": "stream",
          "text": [
            "              precision    recall  f1-score   support\n",
            "\n",
            "           0       0.00      0.00      0.00        36\n",
            "           1       0.55      1.00      0.71        44\n",
            "\n",
            "    accuracy                           0.55        80\n",
            "   macro avg       0.28      0.50      0.35        80\n",
            "weighted avg       0.30      0.55      0.39        80\n",
            "\n"
          ],
          "name": "stdout"
        },
        {
          "output_type": "display_data",
          "data": {
            "image/png": "[encoded data removed]",
            "text/plain": [
              "<Figure size 432x288 with 2 Axes>"
            ]
          },
          "metadata": {
            "tags": [],
            "needs_background": "light"
          }
        }
      ]
    },
    {
      "cell_type": "markdown",
      "metadata": {
        "id": "k6eBKX0r05ou"
      },
      "source": [
        "## Prediction"
      ]
    },
    {
      "cell_type": "code",
      "metadata": {
        "id": "1ExMlYdx0h5t"
      },
      "source": [
        ""
      ],
      "execution_count": null,
      "outputs": []
    },
    {
      "cell_type": "markdown",
      "metadata": {
        "id": "ZRuUCYsP1g8n"
      },
      "source": [
        "### Load Models"
      ]
    },
    {
      "cell_type": "code",
      "metadata": {
        "id": "mdilzY1z1iHR"
      },
      "source": [
        "file = open('/gdrive/My Drive/Inductions/vectorizer-ngram_1-2.pickle', 'rb')\r\n",
        "Vectorizer = pickle.load(file)\r\n",
        "file.close()\r\n",
        "\r\n",
        "file = open('/gdrive/My Drive/Inductions/Sentiment-BNB.pickle', 'rb')\r\n",
        "NaiveBayes = pickle.load(file)\r\n",
        "file.close()"
      ],
      "execution_count": 321,
      "outputs": []
    },
    {
      "cell_type": "markdown",
      "metadata": {
        "id": "XUG-ZN5F1jAV"
      },
      "source": [
        "### Predict"
      ]
    },
    {
      "cell_type": "code",
      "metadata": {
        "id": "_aqoBEdGK27V"
      },
      "source": [
        "text = ['want to compete want hard competition want to rally want to feel the power coming out of the engine want to compete ',\r\n",
        " 'it seems we are stuck on the ground in amarillo they have put ground stop for all flight leaving for denver said update in an hour ',\r\n",
        " 'where the are my pinking shear rarararrarararr babyproofing while cutting stuff make me stick shear random place amp forget them ']"
      ],
      "execution_count": 323,
      "outputs": []
    },
    {
      "cell_type": "code",
      "metadata": {
        "colab": {
          "base_uri": "https://localhost:8080/",
          "height": 159
        },
        "id": "lm0V6u361kFL",
        "outputId": "b4efb199-87f3-4e78-8b61-b8b7fdcc1e9f"
      },
      "source": [
        "sentiment = NaiveBayes.predict(text)\r\n",
        "\r\n",
        "\r\n",
        "data = []\r\n",
        "for text, pred in zip(text, sentiment):\r\n",
        "    data.append((text,pred))\r\n",
        "    \r\n",
        "df = pd.DataFrame(data, columns = ['text','sentiment'])\r\n",
        "df = df.replace([0,1], [\"Negative\",\"Positive\"])\r\n",
        "df"
      ],
      "execution_count": 324,
      "outputs": [
        {
          "output_type": "stream",
          "text": [
            "3\n"
          ],
          "name": "stdout"
        },
        {
          "output_type": "execute_result",
          "data": {
            "text/html": [
              "<div>\n",
              "<style scoped>\n",
              "    .dataframe tbody tr th:only-of-type {\n",
              "        vertical-align: middle;\n",
              "    }\n",
              "\n",
              "    .dataframe tbody tr th {\n",
              "        vertical-align: top;\n",
              "    }\n",
              "\n",
              "    .dataframe thead th {\n",
              "        text-align: right;\n",
              "    }\n",
              "</style>\n",
              "<table border=\"1\" class=\"dataframe\">\n",
              "  <thead>\n",
              "    <tr style=\"text-align: right;\">\n",
              "      <th></th>\n",
              "      <th>text</th>\n",
              "      <th>sentiment</th>\n",
              "    </tr>\n",
              "  </thead>\n",
              "  <tbody>\n",
              "    <tr>\n",
              "      <th>0</th>\n",
              "      <td>want to compete want hard competition want to ...</td>\n",
              "      <td>Positive</td>\n",
              "    </tr>\n",
              "    <tr>\n",
              "      <th>1</th>\n",
              "      <td>it seems we are stuck on the ground in amarill...</td>\n",
              "      <td>Positive</td>\n",
              "    </tr>\n",
              "    <tr>\n",
              "      <th>2</th>\n",
              "      <td>where the are my pinking shear rarararrarararr...</td>\n",
              "      <td>Positive</td>\n",
              "    </tr>\n",
              "  </tbody>\n",
              "</table>\n",
              "</div>"
            ],
            "text/plain": [
              "                                                text sentiment\n",
              "0  want to compete want hard competition want to ...  Positive\n",
              "1  it seems we are stuck on the ground in amarill...  Positive\n",
              "2  where the are my pinking shear rarararrarararr...  Positive"
            ]
          },
          "metadata": {
            "tags": []
          },
          "execution_count": 324
        }
      ]
    },
    {
      "cell_type": "code",
      "metadata": {
        "id": "_PZtVsvGK-hz"
      },
      "source": [
        ""
      ],
      "execution_count": null,
      "outputs": []
    }
  ]
}