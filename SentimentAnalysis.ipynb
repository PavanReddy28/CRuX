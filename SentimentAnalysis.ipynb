{
  "nbformat": 4,
  "nbformat_minor": 0,
  "metadata": {
    "colab": {
      "name": "SentimentAnalysis.ipynb",
      "provenance": [],
      "collapsed_sections": [
        "0ShputfAB2Pq",
        "xA-HZD_cX1HT",
        "PsBYzs-0PAMz",
        "2Kg6X_YO08cr",
        "fulEUnGS0_Bh"
      ],
      "authorship_tag": "ABX9TyP/Gc4/IS4Vu9o3Mveoda93",
      "include_colab_link": true
    },
    "kernelspec": {
      "name": "python3",
      "display_name": "Python 3"
    },
    "widgets": {
      "application/vnd.jupyter.widget-state+json": {
        "2954de47d33c453a8b511b35ebef4c76": {
          "model_module": "@jupyter-widgets/controls",
          "model_name": "HBoxModel",
          "state": {
            "_view_name": "HBoxView",
            "_dom_classes": [],
            "_model_name": "HBoxModel",
            "_view_module": "@jupyter-widgets/controls",
            "_model_module_version": "1.5.0",
            "_view_count": null,
            "_view_module_version": "1.5.0",
            "box_style": "",
            "layout": "IPY_MODEL_5092abc450d146a7bce0e40ff4f539b9",
            "_model_module": "@jupyter-widgets/controls",
            "children": [
              "IPY_MODEL_559ce0307fa14730837b17b920d7d844",
              "IPY_MODEL_33c953a58f2740c3b4a8e37c97d6aa51"
            ]
          }
        },
        "5092abc450d146a7bce0e40ff4f539b9": {
          "model_module": "@jupyter-widgets/base",
          "model_name": "LayoutModel",
          "state": {
            "_view_name": "LayoutView",
            "grid_template_rows": null,
            "right": null,
            "justify_content": null,
            "_view_module": "@jupyter-widgets/base",
            "overflow": null,
            "_model_module_version": "1.2.0",
            "_view_count": null,
            "flex_flow": null,
            "width": null,
            "min_width": null,
            "border": null,
            "align_items": null,
            "bottom": null,
            "_model_module": "@jupyter-widgets/base",
            "top": null,
            "grid_column": null,
            "overflow_y": null,
            "overflow_x": null,
            "grid_auto_flow": null,
            "grid_area": null,
            "grid_template_columns": null,
            "flex": null,
            "_model_name": "LayoutModel",
            "justify_items": null,
            "grid_row": null,
            "max_height": null,
            "align_content": null,
            "visibility": null,
            "align_self": null,
            "height": null,
            "min_height": null,
            "padding": null,
            "grid_auto_rows": null,
            "grid_gap": null,
            "max_width": null,
            "order": null,
            "_view_module_version": "1.2.0",
            "grid_template_areas": null,
            "object_position": null,
            "object_fit": null,
            "grid_auto_columns": null,
            "margin": null,
            "display": null,
            "left": null
          }
        },
        "559ce0307fa14730837b17b920d7d844": {
          "model_module": "@jupyter-widgets/controls",
          "model_name": "FloatProgressModel",
          "state": {
            "_view_name": "ProgressView",
            "style": "IPY_MODEL_9ec72666a543416dbca188e8dd5b465e",
            "_dom_classes": [],
            "description": "100%",
            "_model_name": "FloatProgressModel",
            "bar_style": "success",
            "max": 1600,
            "_view_module": "@jupyter-widgets/controls",
            "_model_module_version": "1.5.0",
            "value": 1600,
            "_view_count": null,
            "_view_module_version": "1.5.0",
            "orientation": "horizontal",
            "min": 0,
            "description_tooltip": null,
            "_model_module": "@jupyter-widgets/controls",
            "layout": "IPY_MODEL_d5a7d6f75a79418ebb1ccf90f9ce08c1"
          }
        },
        "33c953a58f2740c3b4a8e37c97d6aa51": {
          "model_module": "@jupyter-widgets/controls",
          "model_name": "HTMLModel",
          "state": {
            "_view_name": "HTMLView",
            "style": "IPY_MODEL_1e08238344964add9b6d850c42ff0b94",
            "_dom_classes": [],
            "description": "",
            "_model_name": "HTMLModel",
            "placeholder": "​",
            "_view_module": "@jupyter-widgets/controls",
            "_model_module_version": "1.5.0",
            "value": " 1600/1600 [05:07&lt;00:00,  5.21it/s]",
            "_view_count": null,
            "_view_module_version": "1.5.0",
            "description_tooltip": null,
            "_model_module": "@jupyter-widgets/controls",
            "layout": "IPY_MODEL_2a0a272b065d4fefa520a026455e83a7"
          }
        },
        "9ec72666a543416dbca188e8dd5b465e": {
          "model_module": "@jupyter-widgets/controls",
          "model_name": "ProgressStyleModel",
          "state": {
            "_view_name": "StyleView",
            "_model_name": "ProgressStyleModel",
            "description_width": "initial",
            "_view_module": "@jupyter-widgets/base",
            "_model_module_version": "1.5.0",
            "_view_count": null,
            "_view_module_version": "1.2.0",
            "bar_color": null,
            "_model_module": "@jupyter-widgets/controls"
          }
        },
        "d5a7d6f75a79418ebb1ccf90f9ce08c1": {
          "model_module": "@jupyter-widgets/base",
          "model_name": "LayoutModel",
          "state": {
            "_view_name": "LayoutView",
            "grid_template_rows": null,
            "right": null,
            "justify_content": null,
            "_view_module": "@jupyter-widgets/base",
            "overflow": null,
            "_model_module_version": "1.2.0",
            "_view_count": null,
            "flex_flow": null,
            "width": null,
            "min_width": null,
            "border": null,
            "align_items": null,
            "bottom": null,
            "_model_module": "@jupyter-widgets/base",
            "top": null,
            "grid_column": null,
            "overflow_y": null,
            "overflow_x": null,
            "grid_auto_flow": null,
            "grid_area": null,
            "grid_template_columns": null,
            "flex": null,
            "_model_name": "LayoutModel",
            "justify_items": null,
            "grid_row": null,
            "max_height": null,
            "align_content": null,
            "visibility": null,
            "align_self": null,
            "height": null,
            "min_height": null,
            "padding": null,
            "grid_auto_rows": null,
            "grid_gap": null,
            "max_width": null,
            "order": null,
            "_view_module_version": "1.2.0",
            "grid_template_areas": null,
            "object_position": null,
            "object_fit": null,
            "grid_auto_columns": null,
            "margin": null,
            "display": null,
            "left": null
          }
        },
        "1e08238344964add9b6d850c42ff0b94": {
          "model_module": "@jupyter-widgets/controls",
          "model_name": "DescriptionStyleModel",
          "state": {
            "_view_name": "StyleView",
            "_model_name": "DescriptionStyleModel",
            "description_width": "",
            "_view_module": "@jupyter-widgets/base",
            "_model_module_version": "1.5.0",
            "_view_count": null,
            "_view_module_version": "1.2.0",
            "_model_module": "@jupyter-widgets/controls"
          }
        },
        "2a0a272b065d4fefa520a026455e83a7": {
          "model_module": "@jupyter-widgets/base",
          "model_name": "LayoutModel",
          "state": {
            "_view_name": "LayoutView",
            "grid_template_rows": null,
            "right": null,
            "justify_content": null,
            "_view_module": "@jupyter-widgets/base",
            "overflow": null,
            "_model_module_version": "1.2.0",
            "_view_count": null,
            "flex_flow": null,
            "width": null,
            "min_width": null,
            "border": null,
            "align_items": null,
            "bottom": null,
            "_model_module": "@jupyter-widgets/base",
            "top": null,
            "grid_column": null,
            "overflow_y": null,
            "overflow_x": null,
            "grid_auto_flow": null,
            "grid_area": null,
            "grid_template_columns": null,
            "flex": null,
            "_model_name": "LayoutModel",
            "justify_items": null,
            "grid_row": null,
            "max_height": null,
            "align_content": null,
            "visibility": null,
            "align_self": null,
            "height": null,
            "min_height": null,
            "padding": null,
            "grid_auto_rows": null,
            "grid_gap": null,
            "max_width": null,
            "order": null,
            "_view_module_version": "1.2.0",
            "grid_template_areas": null,
            "object_position": null,
            "object_fit": null,
            "grid_auto_columns": null,
            "margin": null,
            "display": null,
            "left": null
          }
        },
        "c63e6a3eedbe49668d78d25517b790a8": {
          "model_module": "@jupyter-widgets/controls",
          "model_name": "HBoxModel",
          "state": {
            "_view_name": "HBoxView",
            "_dom_classes": [],
            "_model_name": "HBoxModel",
            "_view_module": "@jupyter-widgets/controls",
            "_model_module_version": "1.5.0",
            "_view_count": null,
            "_view_module_version": "1.5.0",
            "box_style": "",
            "layout": "IPY_MODEL_bd2f4fe7173a4fe7a5f80a32f8daa256",
            "_model_module": "@jupyter-widgets/controls",
            "children": [
              "IPY_MODEL_c98aaaaa45414661863f5fa290daddf4",
              "IPY_MODEL_582a730f76a841e48774c7864bfa660f"
            ]
          }
        },
        "bd2f4fe7173a4fe7a5f80a32f8daa256": {
          "model_module": "@jupyter-widgets/base",
          "model_name": "LayoutModel",
          "state": {
            "_view_name": "LayoutView",
            "grid_template_rows": null,
            "right": null,
            "justify_content": null,
            "_view_module": "@jupyter-widgets/base",
            "overflow": null,
            "_model_module_version": "1.2.0",
            "_view_count": null,
            "flex_flow": null,
            "width": null,
            "min_width": null,
            "border": null,
            "align_items": null,
            "bottom": null,
            "_model_module": "@jupyter-widgets/base",
            "top": null,
            "grid_column": null,
            "overflow_y": null,
            "overflow_x": null,
            "grid_auto_flow": null,
            "grid_area": null,
            "grid_template_columns": null,
            "flex": null,
            "_model_name": "LayoutModel",
            "justify_items": null,
            "grid_row": null,
            "max_height": null,
            "align_content": null,
            "visibility": null,
            "align_self": null,
            "height": null,
            "min_height": null,
            "padding": null,
            "grid_auto_rows": null,
            "grid_gap": null,
            "max_width": null,
            "order": null,
            "_view_module_version": "1.2.0",
            "grid_template_areas": null,
            "object_position": null,
            "object_fit": null,
            "grid_auto_columns": null,
            "margin": null,
            "display": null,
            "left": null
          }
        },
        "c98aaaaa45414661863f5fa290daddf4": {
          "model_module": "@jupyter-widgets/controls",
          "model_name": "FloatProgressModel",
          "state": {
            "_view_name": "ProgressView",
            "style": "IPY_MODEL_ab8f7c6786254e5ca79d05f405f371b8",
            "_dom_classes": [],
            "description": "100%",
            "_model_name": "FloatProgressModel",
            "bar_style": "success",
            "max": 1000,
            "_view_module": "@jupyter-widgets/controls",
            "_model_module_version": "1.5.0",
            "value": 1000,
            "_view_count": null,
            "_view_module_version": "1.5.0",
            "orientation": "horizontal",
            "min": 0,
            "description_tooltip": null,
            "_model_module": "@jupyter-widgets/controls",
            "layout": "IPY_MODEL_2f63b954571941a2bf39bac7b1273473"
          }
        },
        "582a730f76a841e48774c7864bfa660f": {
          "model_module": "@jupyter-widgets/controls",
          "model_name": "HTMLModel",
          "state": {
            "_view_name": "HTMLView",
            "style": "IPY_MODEL_def7cbf1d90743cab5b8ecbf130859f0",
            "_dom_classes": [],
            "description": "",
            "_model_name": "HTMLModel",
            "placeholder": "​",
            "_view_module": "@jupyter-widgets/controls",
            "_model_module_version": "1.5.0",
            "value": " 1000/1000 [02:08&lt;00:00,  7.76it/s]",
            "_view_count": null,
            "_view_module_version": "1.5.0",
            "description_tooltip": null,
            "_model_module": "@jupyter-widgets/controls",
            "layout": "IPY_MODEL_ed0f5a1355cb434e9d8c1140c64978fd"
          }
        },
        "ab8f7c6786254e5ca79d05f405f371b8": {
          "model_module": "@jupyter-widgets/controls",
          "model_name": "ProgressStyleModel",
          "state": {
            "_view_name": "StyleView",
            "_model_name": "ProgressStyleModel",
            "description_width": "initial",
            "_view_module": "@jupyter-widgets/base",
            "_model_module_version": "1.5.0",
            "_view_count": null,
            "_view_module_version": "1.2.0",
            "bar_color": null,
            "_model_module": "@jupyter-widgets/controls"
          }
        },
        "2f63b954571941a2bf39bac7b1273473": {
          "model_module": "@jupyter-widgets/base",
          "model_name": "LayoutModel",
          "state": {
            "_view_name": "LayoutView",
            "grid_template_rows": null,
            "right": null,
            "justify_content": null,
            "_view_module": "@jupyter-widgets/base",
            "overflow": null,
            "_model_module_version": "1.2.0",
            "_view_count": null,
            "flex_flow": null,
            "width": null,
            "min_width": null,
            "border": null,
            "align_items": null,
            "bottom": null,
            "_model_module": "@jupyter-widgets/base",
            "top": null,
            "grid_column": null,
            "overflow_y": null,
            "overflow_x": null,
            "grid_auto_flow": null,
            "grid_area": null,
            "grid_template_columns": null,
            "flex": null,
            "_model_name": "LayoutModel",
            "justify_items": null,
            "grid_row": null,
            "max_height": null,
            "align_content": null,
            "visibility": null,
            "align_self": null,
            "height": null,
            "min_height": null,
            "padding": null,
            "grid_auto_rows": null,
            "grid_gap": null,
            "max_width": null,
            "order": null,
            "_view_module_version": "1.2.0",
            "grid_template_areas": null,
            "object_position": null,
            "object_fit": null,
            "grid_auto_columns": null,
            "margin": null,
            "display": null,
            "left": null
          }
        },
        "def7cbf1d90743cab5b8ecbf130859f0": {
          "model_module": "@jupyter-widgets/controls",
          "model_name": "DescriptionStyleModel",
          "state": {
            "_view_name": "StyleView",
            "_model_name": "DescriptionStyleModel",
            "description_width": "",
            "_view_module": "@jupyter-widgets/base",
            "_model_module_version": "1.5.0",
            "_view_count": null,
            "_view_module_version": "1.2.0",
            "_model_module": "@jupyter-widgets/controls"
          }
        },
        "ed0f5a1355cb434e9d8c1140c64978fd": {
          "model_module": "@jupyter-widgets/base",
          "model_name": "LayoutModel",
          "state": {
            "_view_name": "LayoutView",
            "grid_template_rows": null,
            "right": null,
            "justify_content": null,
            "_view_module": "@jupyter-widgets/base",
            "overflow": null,
            "_model_module_version": "1.2.0",
            "_view_count": null,
            "flex_flow": null,
            "width": null,
            "min_width": null,
            "border": null,
            "align_items": null,
            "bottom": null,
            "_model_module": "@jupyter-widgets/base",
            "top": null,
            "grid_column": null,
            "overflow_y": null,
            "overflow_x": null,
            "grid_auto_flow": null,
            "grid_area": null,
            "grid_template_columns": null,
            "flex": null,
            "_model_name": "LayoutModel",
            "justify_items": null,
            "grid_row": null,
            "max_height": null,
            "align_content": null,
            "visibility": null,
            "align_self": null,
            "height": null,
            "min_height": null,
            "padding": null,
            "grid_auto_rows": null,
            "grid_gap": null,
            "max_width": null,
            "order": null,
            "_view_module_version": "1.2.0",
            "grid_template_areas": null,
            "object_position": null,
            "object_fit": null,
            "grid_auto_columns": null,
            "margin": null,
            "display": null,
            "left": null
          }
        }
      }
    }
  },
  "cells": [
    {
      "cell_type": "markdown",
      "metadata": {
        "id": "view-in-github",
        "colab_type": "text"
      },
      "source": [
        "<a href=\"https://colab.research.google.com/github/PavanReddy28/CRuX/blob/main/SentimentAnalysis.ipynb\" target=\"_parent\"><img src=\"https://colab.research.google.com/assets/colab-badge.svg\" alt=\"Open In Colab\"/></a>"
      ]
    },
    {
      "cell_type": "markdown",
      "metadata": {
        "id": "gAu1LDIvuoRL"
      },
      "source": [
        "# Sentiment Analysis"
      ]
    },
    {
      "cell_type": "markdown",
      "metadata": {
        "id": "wKaDf_4TxO96"
      },
      "source": [
        "Naive Bayes algorithms are a set of supervised statistical classification machine learning algorithms based on the Bayes probability theorem.\r\n",
        "\r\n",
        "Bayes theorem states that:\r\n",
        "\r\n",
        "P(A|B) = P(B|A) * P(A)/P(B)\r\n",
        "\r\n",
        "An important assumption made by Bayes theorem is that the value of a particular feature is independent from the value of any other feature for a given the class.\r\n",
        "\r\n",
        "\r\n",
        "##Basic workflow of building the model:\r\n",
        "\r\n",
        "(From each tweet, build a vocabulary that consists of words, it's sentiment and it's TF-IDF score. For any given string, it's sentiment is decided by multiplying the probability of each word occuring, using Bayes theorem.)\r\n",
        "\r\n",
        "Step 1: Calculate the prior probability for each class labels\r\n",
        "\r\n",
        "Step 2: Find likelihood probability with each attribute for each class\r\n",
        "\r\n",
        "Step 3: Put these value in Bayes Formula and calculate posterior probability\r\n",
        "\r\n",
        "Step 4: See which class has a higher probability, given the input belongs to the higher probability class."
      ]
    },
    {
      "cell_type": "markdown",
      "metadata": {
        "id": "8zOhpSkBB28-"
      },
      "source": [
        "## Packages"
      ]
    },
    {
      "cell_type": "code",
      "metadata": {
        "id": "lxg7HM77hna1"
      },
      "source": [
        "import nltk"
      ],
      "execution_count": 1,
      "outputs": []
    },
    {
      "cell_type": "code",
      "metadata": {
        "colab": {
          "base_uri": "https://localhost:8080/"
        },
        "id": "JGsj9S8whpfR",
        "outputId": "a8aff110-dfac-4c58-cf00-2bce565bd59f"
      },
      "source": [
        "nltk.download('wordnet')\r\n",
        "nltk.download('stopwords')"
      ],
      "execution_count": 2,
      "outputs": [
        {
          "output_type": "stream",
          "text": [
            "[nltk_data] Downloading package wordnet to /root/nltk_data...\n",
            "[nltk_data]   Unzipping corpora/wordnet.zip.\n",
            "[nltk_data] Downloading package stopwords to /root/nltk_data...\n",
            "[nltk_data]   Unzipping corpora/stopwords.zip.\n"
          ],
          "name": "stdout"
        },
        {
          "output_type": "execute_result",
          "data": {
            "text/plain": [
              "True"
            ]
          },
          "metadata": {
            "tags": []
          },
          "execution_count": 2
        }
      ]
    },
    {
      "cell_type": "code",
      "metadata": {
        "id": "3tRdJPRHSSpq"
      },
      "source": [
        "import pandas as pd\r\n",
        "import numpy as np\r\n",
        "from matplotlib import pyplot as plt\r\n",
        "import time\r\n",
        "import torch\r\n",
        "from scipy.sparse import csr_matrix\r\n",
        "from sklearn.utils.extmath import safe_sparse_dot\r\n",
        "from tqdm.notebook import tqdm\r\n",
        "\r\n",
        "\r\n",
        "import re\r\n",
        "from nltk import WordNetLemmatizer\r\n",
        "from sklearn.feature_extraction.text import TfidfVectorizer\r\n",
        "from nltk.corpus import stopwords\r\n",
        "\r\n",
        "import seaborn as sns\r\n",
        "\r\n",
        "from sklearn.model_selection import train_test_split\r\n",
        "from sklearn.metrics import classification_report, confusion_matrix, accuracy_score\r\n",
        "import pickle"
      ],
      "execution_count": 174,
      "outputs": []
    },
    {
      "cell_type": "markdown",
      "metadata": {
        "id": "0ShputfAB2Pq"
      },
      "source": [
        "## Importing data"
      ]
    },
    {
      "cell_type": "code",
      "metadata": {
        "id": "7xWI8OYUZNUc",
        "colab": {
          "base_uri": "https://localhost:8080/"
        },
        "outputId": "f298e64e-b4f6-417b-d30f-b3e333c84df4"
      },
      "source": [
        "from google.colab import drive\r\n",
        "drive.mount('/gdrive')"
      ],
      "execution_count": 4,
      "outputs": [
        {
          "output_type": "stream",
          "text": [
            "Mounted at /gdrive\n"
          ],
          "name": "stdout"
        }
      ]
    },
    {
      "cell_type": "markdown",
      "metadata": {
        "id": "_7b37UP2SKW4"
      },
      "source": [
        "### Sentiment140 Dataset"
      ]
    },
    {
      "cell_type": "markdown",
      "metadata": {
        "id": "Ll0HW-mjND4F"
      },
      "source": [
        "Using the dataset **Sentiment140** contatining **1,600,000** tweets extracted using twitter api. \r\n",
        "<br>The tweets are annoted as '0 : Negative', '2 : Neutral' and '4 : Positive'.\r\n",
        "<br>I have only used the positive and negative tweets to train my model."
      ]
    },
    {
      "cell_type": "code",
      "metadata": {
        "id": "v1NTvgd-Mgsm"
      },
      "source": [
        "twitter_dataset = pd.read_csv('/gdrive/My Drive/Inductions/training.1600000.processed.noemoticon.csv', encoding=\"ISO-8859-1\", names=[\"sentiment\", \"ids\", \"date\", \"flag\", \"user\", \"text\"])"
      ],
      "execution_count": 5,
      "outputs": []
    },
    {
      "cell_type": "code",
      "metadata": {
        "colab": {
          "base_uri": "https://localhost:8080/",
          "height": 204
        },
        "id": "Ortz5Y-cPt2L",
        "outputId": "2e4ffa47-a260-4224-ed57-18b3fdbb7348"
      },
      "source": [
        "twitter_dataset.head()"
      ],
      "execution_count": 6,
      "outputs": [
        {
          "output_type": "execute_result",
          "data": {
            "text/html": [
              "<div>\n",
              "<style scoped>\n",
              "    .dataframe tbody tr th:only-of-type {\n",
              "        vertical-align: middle;\n",
              "    }\n",
              "\n",
              "    .dataframe tbody tr th {\n",
              "        vertical-align: top;\n",
              "    }\n",
              "\n",
              "    .dataframe thead th {\n",
              "        text-align: right;\n",
              "    }\n",
              "</style>\n",
              "<table border=\"1\" class=\"dataframe\">\n",
              "  <thead>\n",
              "    <tr style=\"text-align: right;\">\n",
              "      <th></th>\n",
              "      <th>sentiment</th>\n",
              "      <th>ids</th>\n",
              "      <th>date</th>\n",
              "      <th>flag</th>\n",
              "      <th>user</th>\n",
              "      <th>text</th>\n",
              "    </tr>\n",
              "  </thead>\n",
              "  <tbody>\n",
              "    <tr>\n",
              "      <th>0</th>\n",
              "      <td>0</td>\n",
              "      <td>1467810369</td>\n",
              "      <td>Mon Apr 06 22:19:45 PDT 2009</td>\n",
              "      <td>NO_QUERY</td>\n",
              "      <td>_TheSpecialOne_</td>\n",
              "      <td>@switchfoot http://twitpic.com/2y1zl - Awww, t...</td>\n",
              "    </tr>\n",
              "    <tr>\n",
              "      <th>1</th>\n",
              "      <td>0</td>\n",
              "      <td>1467810672</td>\n",
              "      <td>Mon Apr 06 22:19:49 PDT 2009</td>\n",
              "      <td>NO_QUERY</td>\n",
              "      <td>scotthamilton</td>\n",
              "      <td>is upset that he can't update his Facebook by ...</td>\n",
              "    </tr>\n",
              "    <tr>\n",
              "      <th>2</th>\n",
              "      <td>0</td>\n",
              "      <td>1467810917</td>\n",
              "      <td>Mon Apr 06 22:19:53 PDT 2009</td>\n",
              "      <td>NO_QUERY</td>\n",
              "      <td>mattycus</td>\n",
              "      <td>@Kenichan I dived many times for the ball. Man...</td>\n",
              "    </tr>\n",
              "    <tr>\n",
              "      <th>3</th>\n",
              "      <td>0</td>\n",
              "      <td>1467811184</td>\n",
              "      <td>Mon Apr 06 22:19:57 PDT 2009</td>\n",
              "      <td>NO_QUERY</td>\n",
              "      <td>ElleCTF</td>\n",
              "      <td>my whole body feels itchy and like its on fire</td>\n",
              "    </tr>\n",
              "    <tr>\n",
              "      <th>4</th>\n",
              "      <td>0</td>\n",
              "      <td>1467811193</td>\n",
              "      <td>Mon Apr 06 22:19:57 PDT 2009</td>\n",
              "      <td>NO_QUERY</td>\n",
              "      <td>Karoli</td>\n",
              "      <td>@nationwideclass no, it's not behaving at all....</td>\n",
              "    </tr>\n",
              "  </tbody>\n",
              "</table>\n",
              "</div>"
            ],
            "text/plain": [
              "   sentiment  ...                                               text\n",
              "0          0  ...  @switchfoot http://twitpic.com/2y1zl - Awww, t...\n",
              "1          0  ...  is upset that he can't update his Facebook by ...\n",
              "2          0  ...  @Kenichan I dived many times for the ball. Man...\n",
              "3          0  ...    my whole body feels itchy and like its on fire \n",
              "4          0  ...  @nationwideclass no, it's not behaving at all....\n",
              "\n",
              "[5 rows x 6 columns]"
            ]
          },
          "metadata": {
            "tags": []
          },
          "execution_count": 6
        }
      ]
    },
    {
      "cell_type": "code",
      "metadata": {
        "colab": {
          "base_uri": "https://localhost:8080/"
        },
        "id": "6EPILBeXA1ga",
        "outputId": "ffe39856-9501-4a63-8914-424f3e3edd4e"
      },
      "source": [
        "twitter_dataset['sentiment'].value_counts()"
      ],
      "execution_count": 7,
      "outputs": [
        {
          "output_type": "execute_result",
          "data": {
            "text/plain": [
              "4    800000\n",
              "0    800000\n",
              "Name: sentiment, dtype: int64"
            ]
          },
          "metadata": {
            "tags": []
          },
          "execution_count": 7
        }
      ]
    },
    {
      "cell_type": "markdown",
      "metadata": {
        "id": "J442IpvYXwVf"
      },
      "source": [
        "## Data Preprocessing"
      ]
    },
    {
      "cell_type": "code",
      "metadata": {
        "id": "OroosyT-PzsA"
      },
      "source": [
        "sentiment, text = twitter_dataset['sentiment'], twitter_dataset['text']"
      ],
      "execution_count": 139,
      "outputs": []
    },
    {
      "cell_type": "markdown",
      "metadata": {
        "id": "xA-HZD_cX1HT"
      },
      "source": [
        "### **Sentiment**\r\n",
        "\r\n",
        "Replacing 4's to 1's (Representation of Positive Data)."
      ]
    },
    {
      "cell_type": "code",
      "metadata": {
        "colab": {
          "base_uri": "https://localhost:8080/"
        },
        "id": "cxf6J3rTPzl-",
        "outputId": "f30e9e15-6f46-405f-f000-400b625305f3"
      },
      "source": [
        "sentiment.value_counts()"
      ],
      "execution_count": 140,
      "outputs": [
        {
          "output_type": "execute_result",
          "data": {
            "text/plain": [
              "4    800000\n",
              "0    800000\n",
              "Name: sentiment, dtype: int64"
            ]
          },
          "metadata": {
            "tags": []
          },
          "execution_count": 140
        }
      ]
    },
    {
      "cell_type": "code",
      "metadata": {
        "id": "GLkfUuUWV8V2"
      },
      "source": [
        "sentiment = sentiment.replace(4,1)"
      ],
      "execution_count": 141,
      "outputs": []
    },
    {
      "cell_type": "code",
      "metadata": {
        "colab": {
          "base_uri": "https://localhost:8080/"
        },
        "id": "WR69l6HjW0FK",
        "outputId": "52f32dcb-bdef-4cbb-d88d-7397b125f1ee"
      },
      "source": [
        "sentiment.value_counts()"
      ],
      "execution_count": 142,
      "outputs": [
        {
          "output_type": "execute_result",
          "data": {
            "text/plain": [
              "1    800000\n",
              "0    800000\n",
              "Name: sentiment, dtype: int64"
            ]
          },
          "metadata": {
            "tags": []
          },
          "execution_count": 142
        }
      ]
    },
    {
      "cell_type": "code",
      "metadata": {
        "id": "f1RRs00rW86V"
      },
      "source": [
        ""
      ],
      "execution_count": 142,
      "outputs": []
    },
    {
      "cell_type": "markdown",
      "metadata": {
        "id": "ZwcAJypvYI5v"
      },
      "source": [
        "### **Text**"
      ]
    },
    {
      "cell_type": "markdown",
      "metadata": {
        "id": "k5GwHuEuoLvs"
      },
      "source": [
        "Preprocessing of text data include:\r\n",
        "<ol type = \"1\">\r\n",
        "<li>Converting all the data to **Lower Case**</li>\r\n",
        "         <li>Replaceing **User ID's** (\"@colab\", etc.) with \"USER\"</li>\r\n",
        "         <li>Replacing **Emojis** to text representation (According to Emoji Dictionary).</li>\r\n",
        "         <li>Replacing **URLs** (starting with \"http\", \"www\", etc.) with \"URL\"</li>\r\n",
        "         <li>Removing **Non-Alphabets**</li>\r\n",
        "         <li>**Tokenization** : Splitting of the tweets to, list of words.</li>\r\n",
        "         <li>**Lemmetization** : Grouping together the different forms of a work so that they can be analyzed as a single word. Done using NLTK Library.\r\n",
        "</li>\r\n",
        "<li>Removing letters repeated more than 3 times.</li>"
      ]
    },
    {
      "cell_type": "code",
      "metadata": {
        "id": "sWsftnx-c4Gp"
      },
      "source": [
        "#Emojis taken from the internet.\r\n",
        "\r\n",
        "emojis = {':)': 'smile', ':-)': 'smile', ';d': 'wink', ':-E': 'vampire', ':(': 'sad', \r\n",
        "          ':-(': 'sad', ':-<': 'sad', ':P': 'raspberry', ':O': 'surprised',\r\n",
        "          ':-@': 'shocked', ':@': 'shocked',':-$': 'confused', ':\\\\': 'annoyed', \r\n",
        "          ':#': 'mute', ':X': 'mute', ':^)': 'smile', ':-&': 'confused', '$_$': 'greedy',\r\n",
        "          '@@': 'eyeroll', ':-!': 'confused', ':-D': 'smile', ':-0': 'yell', 'O.o': 'confused',\r\n",
        "          '<(-_-)>': 'robot', 'd[-_-]b': 'dj', \":'-)\": 'sadsmile', ';)': 'wink', \r\n",
        "          ';-)': 'wink', 'O:-)': 'angel','O*-)': 'angel','(:-D': 'gossip', '=^.^=': 'cat'}"
      ],
      "execution_count": 143,
      "outputs": []
    },
    {
      "cell_type": "code",
      "metadata": {
        "id": "CH85JF7IbsNB"
      },
      "source": [
        "def data_preprocess(textdata):\r\n",
        "\r\n",
        "  lemmatizer = WordNetLemmatizer()\r\n",
        "\r\n",
        "  Processed =[]\r\n",
        "\r\n",
        "  urlPattern = r\"((http://)[^ ]*|(https://)[^ ]*|( www\\.)[^ ]*)\"\r\n",
        "  userPattern = '@[^\\s]+'\r\n",
        "  alphaPattern = r\"[^\\w]\"\r\n",
        "  sequenceFind = r\"(.)\\1\\1+\"\r\n",
        "  sequenceReplace = r\"\\1\\1\"\r\n",
        "\r\n",
        "  for tweet in textdata:\r\n",
        "\r\n",
        "    tweet = tweet.lower()\r\n",
        "\r\n",
        "    tweet = re.sub(urlPattern, 'URL ', tweet)\r\n",
        "    tweet = re.sub(userPattern, 'USER ', tweet)\r\n",
        "    tweet = re.sub(alphaPattern, ' ', tweet)\r\n",
        "    tweet = re.sub(sequenceFind, sequenceReplace, tweet)\r\n",
        "\r\n",
        "    for emoji in emojis.keys():\r\n",
        "      tweet = tweet.replace(emoji, \"EMOJI\"+emojis[emoji])\r\n",
        "\r\n",
        "    tweetWords = ''\r\n",
        "    for text in tweet.split():\r\n",
        "      if len(text)>1:\r\n",
        "        text = lemmatizer.lemmatize(text)\r\n",
        "        tweetWords += (text +' ')\r\n",
        "    \r\n",
        "    Processed.append(tweetWords)\r\n",
        "\r\n",
        "  return Processed\r\n"
      ],
      "execution_count": 144,
      "outputs": []
    },
    {
      "cell_type": "code",
      "metadata": {
        "colab": {
          "base_uri": "https://localhost:8080/"
        },
        "id": "eDlk6dcNg0S9",
        "outputId": "131ff453-b2f2-4db6-8c30-4e38b55bc256"
      },
      "source": [
        "%%time\r\n",
        "text = data_preprocess(text)\r\n",
        "print('Data Processed.')"
      ],
      "execution_count": 145,
      "outputs": [
        {
          "output_type": "stream",
          "text": [
            "Data Processed.\n",
            "CPU times: user 2min 6s, sys: 0 ns, total: 2min 6s\n",
            "Wall time: 2min 7s\n"
          ],
          "name": "stdout"
        }
      ]
    },
    {
      "cell_type": "markdown",
      "metadata": {
        "id": "PsBYzs-0PAMz"
      },
      "source": [
        "### Train Test Split"
      ]
    },
    {
      "cell_type": "code",
      "metadata": {
        "id": "buX2UqZ3hEXb"
      },
      "source": [
        "X_train, X_test, Y_train, Y_test = train_test_split(text, sentiment, train_size = 0.001,test_size=0.0001, random_state=0)"
      ],
      "execution_count": 146,
      "outputs": []
    },
    {
      "cell_type": "code",
      "metadata": {
        "colab": {
          "base_uri": "https://localhost:8080/"
        },
        "id": "0dNImZjQPEX4",
        "outputId": "b4936c2b-65b0-4bf9-a384-c174067f3d7e"
      },
      "source": [
        "X_test[:10]"
      ],
      "execution_count": 147,
      "outputs": [
        {
          "output_type": "execute_result",
          "data": {
            "text/plain": [
              "['want to compete want hard competition want to rally want to feel the power coming out of the engine want to compete ',\n",
              " 'it seems we are stuck on the ground in amarillo they have put ground stop for all flight leaving for denver said update in an hour ',\n",
              " 'where the are my pinking shear rarararrarararr babyproofing while cutting stuff make me stick shear random place amp forget them ',\n",
              " '0ff t0 the meetin hate when ppl v0lunteer my free time grr ',\n",
              " 'reply me pls ',\n",
              " 'USER jazz in india is just honda strategy to prove they can make affordable car for the working class it still doesn fit me ',\n",
              " 'aah met boy he seems nice im happy now ',\n",
              " 'USER URL sport center you guy are too legit to quit wooww ',\n",
              " 'USER not bad bit grumpy cause of exam but generally ok ta ',\n",
              " 'USER can watch it what is it ']"
            ]
          },
          "metadata": {
            "tags": []
          },
          "execution_count": 147
        }
      ]
    },
    {
      "cell_type": "markdown",
      "metadata": {
        "id": "V-I6K2S2kLmi"
      },
      "source": [
        "### **TF-IDF Vectorizer**"
      ]
    },
    {
      "cell_type": "markdown",
      "metadata": {
        "id": "N6H7Fm7-oSgl"
      },
      "source": [
        "The <b>'tfidfVectorizer()'</b> method from the sklearn.feature_extraction package, helps convert a collection of raw documents to a matrix of TF-IDF features.\r\n",
        "\r\n",
        "It returns a list of features (here, words are the features) and their respective TF-IDF (Text Frequency - Inverse Document Frequency) scores.\r\n",
        "<br>\r\n",
        "\r\n",
        "--------------------------------\r\n",
        "\r\n",
        "**Example**:\r\n",
        "<br>\r\n",
        "INPUT: corpus = ['This is the first document.','This document is the second document.','And this is the third one.','Is this the first document?',]\r\n",
        "<br><br>When the above list is passed through the vectorizer the below list is returned.\r\n",
        "<br><br>OUTPUT: ['and', 'document', 'first', 'is', 'one', 'second', 'the', 'third', 'this']\r\n",
        "\r\n",
        "-------------------------------------\r\n",
        "Setting the Parameters in TF-IDF Vectorizer:\r\n",
        "<ol>\r\n",
        "<li>Here, I have set <b>n-gram range</b> to (1,2), so that a max of two words can be taken as key words at once (for example: \"Very Delicious\" will give three features \"Very\", \"Delicious\" and \"Very Delicious\").</li>\r\n",
        "<li>Also I set the number of <b>max_features</b> to 100000, so that only the words with hgher scores  are included in the future analysis.</li>\r\n",
        "</ol>"
      ]
    },
    {
      "cell_type": "code",
      "metadata": {
        "id": "PJx_zd_Fj9Ww"
      },
      "source": [
        "Vectorizer = TfidfVectorizer(ngram_range=(1,2), lowercase=True, max_features=1000, stop_words=list(stopwords.words('english')))"
      ],
      "execution_count": 148,
      "outputs": []
    },
    {
      "cell_type": "code",
      "metadata": {
        "colab": {
          "base_uri": "https://localhost:8080/"
        },
        "id": "Ud-hVNQSoupE",
        "outputId": "2dd6a129-05ce-44a3-a6b9-745e3769f77b"
      },
      "source": [
        "Vectorizer.fit(X_train)"
      ],
      "execution_count": 149,
      "outputs": [
        {
          "output_type": "execute_result",
          "data": {
            "text/plain": [
              "TfidfVectorizer(analyzer='word', binary=False, decode_error='strict',\n",
              "                dtype=<class 'numpy.float64'>, encoding='utf-8',\n",
              "                input='content', lowercase=True, max_df=1.0, max_features=1000,\n",
              "                min_df=1, ngram_range=(1, 2), norm='l2', preprocessor=None,\n",
              "                smooth_idf=True,\n",
              "                stop_words=['i', 'me', 'my', 'myself', 'we', 'our', 'ours',\n",
              "                            'ourselves', 'you', \"you're\", \"you've\", \"you'll\",\n",
              "                            \"you'd\", 'your', 'yours', 'yourself', 'yourselves',\n",
              "                            'he', 'him', 'his', 'himself', 'she', \"she's\",\n",
              "                            'her', 'hers', 'herself', 'it', \"it's\", 'its',\n",
              "                            'itself', ...],\n",
              "                strip_accents=None, sublinear_tf=False,\n",
              "                token_pattern='(?u)\\\\b\\\\w\\\\w+\\\\b', tokenizer=None, use_idf=True,\n",
              "                vocabulary=None)"
            ]
          },
          "metadata": {
            "tags": []
          },
          "execution_count": 149
        }
      ]
    },
    {
      "cell_type": "code",
      "metadata": {
        "id": "fFLBXQMHpN0O"
      },
      "source": [
        "X_train = Vectorizer.transform(X_train)\r\n",
        "#X_test = Vectorizer.transform(X_test)"
      ],
      "execution_count": 150,
      "outputs": []
    },
    {
      "cell_type": "code",
      "metadata": {
        "colab": {
          "base_uri": "https://localhost:8080/"
        },
        "id": "6eO74JgZ7SQ9",
        "outputId": "b49e60e6-ee70-45a3-90bf-c5e905458e3d"
      },
      "source": [
        "X_train[:10]"
      ],
      "execution_count": 151,
      "outputs": [
        {
          "output_type": "execute_result",
          "data": {
            "text/plain": [
              "<10x1000 sparse matrix of type '<class 'numpy.float64'>'\n",
              "\twith 50 stored elements in Compressed Sparse Row format>"
            ]
          },
          "metadata": {
            "tags": []
          },
          "execution_count": 151
        }
      ]
    },
    {
      "cell_type": "code",
      "metadata": {
        "colab": {
          "base_uri": "https://localhost:8080/"
        },
        "id": "z37EpbTViasV",
        "outputId": "e760bf4c-dc14-40c5-dd7b-5e97cdd88a35"
      },
      "source": [
        "#Example using the 1st tweet\r\n",
        "df = pd.DataFrame(X_train[0].T.todense(), index=Vectorizer.get_feature_names(), columns=[\"TF-IDF\"])\r\n",
        "df = df.sort_values('TF-IDF', ascending=False)\r\n",
        "print (df.head(50))"
      ],
      "execution_count": 152,
      "outputs": [
        {
          "output_type": "stream",
          "text": [
            "               TF-IDF\n",
            "busy         0.656481\n",
            "busy busy    0.393284\n",
            "mm           0.355838\n",
            "study        0.355838\n",
            "home         0.263740\n",
            "work         0.221592\n",
            "good         0.206051\n",
            "saw          0.000000\n",
            "say          0.000000\n",
            "second       0.000000\n",
            "save         0.000000\n",
            "sat          0.000000\n",
            "school       0.000000\n",
            "said         0.000000\n",
            "sad          0.000000\n",
            "season       0.000000\n",
            "running      0.000000\n",
            "saying       0.000000\n",
            "see user     0.000000\n",
            "see          0.000000\n",
            "seeing       0.000000\n",
            "seem         0.000000\n",
            "seems        0.000000\n",
            "seen         0.000000\n",
            "send         0.000000\n",
            "serious      0.000000\n",
            "seriously    0.000000\n",
            "server       0.000000\n",
            "service      0.000000\n",
            "set          0.000000\n",
            "share        0.000000\n",
            "shirt        0.000000\n",
            "shit         0.000000\n",
            "shopping     0.000000\n",
            "run          0.000000\n",
            "10           0.000000\n",
            "round        0.000000\n",
            "really want  0.000000\n",
            "quite        0.000000\n",
            "quot         0.000000\n",
            "quot quot    0.000000\n",
            "radio        0.000000\n",
            "rain         0.000000\n",
            "raining      0.000000\n",
            "random       0.000000\n",
            "read         0.000000\n",
            "reading      0.000000\n",
            "ready        0.000000\n",
            "real         0.000000\n",
            "really       0.000000\n"
          ],
          "name": "stdout"
        }
      ]
    },
    {
      "cell_type": "markdown",
      "metadata": {
        "id": "dv7uwfgLSlFY"
      },
      "source": [
        "## Model"
      ]
    },
    {
      "cell_type": "markdown",
      "metadata": {
        "id": "mKHOox-eSnnL"
      },
      "source": [
        "### Naive Bayes"
      ]
    },
    {
      "cell_type": "markdown",
      "metadata": {
        "id": "-k9EDeZcNkgo"
      },
      "source": [
        "<b>Fit Method</b>\r\n",
        "<br>\r\n",
        "Here TFIDF represents the Text Frequency Inverse Document Frequency Score.\r\n",
        "<br>\r\n",
        "<br>\r\n",
        "$$parameters(pos) =P(W|pos) = \\frac{TFIDF(W)_{pos} + \\alpha}{\\sum{TFIDF_{pos}} + \\alpha*V }\\tag{2} $$\r\n",
        "<br>\r\n",
        "$$parameters(neg)=P(W|neg) = \\frac{TFIDF(W)_{neg} + \\alpha}{\\sum{TFIDF_{neg}} + \\alpha*V} $$\r\n",
        "\r\n",
        "<br><br>\r\n",
        "\r\n",
        "<b>Predict Method</b>:\r\n",
        "$$P(pos|(w1,w2....wn)) = P(pos)*\\prod_{i=1}^{n}P(w_{i}|pos)\\tag{1} $$\r\n",
        "<br>\r\n",
        "$$P(neg|(w1,w2....wn)) = P(neg)*\\prod_{i=1}^{n}P(w_{i}|neg) \r\n",
        "$$\r\n"
      ]
    },
    {
      "cell_type": "code",
      "metadata": {
        "id": "QO1_pYmnSm51"
      },
      "source": [
        "class NaiveBayesAlgo:\r\n",
        "\r\n",
        "  def __init__(self, alpha=1):\r\n",
        "    self.vocab={}\r\n",
        "    self.prob_pos_words = {}\r\n",
        "    self.prob_neg_words = {}  \r\n",
        "    self.pos_score = 0\r\n",
        "    self.neg_score = 0\r\n",
        "    self.pos_prior = 0\r\n",
        "    self.neg_prior = 0\r\n",
        "    self.alpha = alpha\r\n",
        "\r\n",
        "  def vocab_create(self, df, boolVal, li):\r\n",
        "  \r\n",
        "    for word in li:\r\n",
        "      if df.loc[word][0]>0:\r\n",
        "        if word in list(self.vocab.keys()):\r\n",
        "          if boolVal in list(self.vocab[word].keys()):\r\n",
        "            self.vocab[word][boolVal] += df.loc[word][0]\r\n",
        "          else:\r\n",
        "            self.vocab[word][boolVal] = df.loc[word][0]\r\n",
        "        if word not in list(self.vocab.keys()):\r\n",
        "          self.vocab[word] = {boolVal : df.loc[word][0]}\r\n",
        "        \r\n",
        "        if boolVal==1 :\r\n",
        "          self.pos_score += self.vocab[word][boolVal]\r\n",
        "        else:\r\n",
        "          self.neg_score += self.vocab[word][boolVal]\r\n",
        "        \r\n",
        "\r\n",
        "  def fit(self, X, Y, Vectorizer, initialize=False):\r\n",
        "\r\n",
        "    if initialize:\r\n",
        "      self.vocab = {}\r\n",
        "      self.prob_pos_words = {}\r\n",
        "      self.prob_neg_words = {}\r\n",
        "      self.pos_score = 0\r\n",
        "      self.neg_score = 0\r\n",
        "      self.pos_prior = 0\r\n",
        "      self.neg_prior = 0\r\n",
        "\r\n",
        "    for i in tqdm(range(X.shape[0])):\r\n",
        "      df = pd.DataFrame(X[i].T.todense(), index = Vectorizer.get_feature_names(), columns=['TF-IDF'])\r\n",
        "      df = df.sort_values('TF-IDF', ascending=False)\r\n",
        "      #self.vocab_create(df, Y[i], list(Vectorizer.get_feature_names()))  \r\n",
        "      li = Vectorizer.get_feature_names()\r\n",
        "      boolVal = Y[i]\r\n",
        "      for word in li:\r\n",
        "        #print(df.loc[word][0])\r\n",
        "        if df.loc[word][0]>0:\r\n",
        "          if word in list(self.vocab.keys()):\r\n",
        "            if boolVal in list(self.vocab[word].keys()):\r\n",
        "              self.vocab[word][boolVal] += df.loc[word][0]\r\n",
        "            else:\r\n",
        "              self.vocab[word][boolVal] = df.loc[word][0]\r\n",
        "          if word not in list(self.vocab.keys()):\r\n",
        "            self.vocab[word] = {boolVal : df.loc[word][0]}\r\n",
        "          \r\n",
        "          if boolVal==1 :\r\n",
        "            self.pos_score += self.vocab[word][boolVal]\r\n",
        "          else:\r\n",
        "            self.neg_score += self.vocab[word][boolVal]\r\n",
        "\r\n",
        "    #print(list(self.vocab.keys()))\r\n",
        "    \r\n",
        "    for word in tqdm(list(self.vocab.keys())):\r\n",
        "      if 1 in list(self.vocab[word].keys()):\r\n",
        "        self.prob_pos_words[word] = (self.vocab[word][1] + self.alpha) / (self.pos_score + (self.alpha * len(Vectorizer.get_feature_names())))\r\n",
        "        #print(word, self.prob_pos_words[word], 'pos')\r\n",
        "      else:\r\n",
        "        self.prob_pos_words[word] = 0\r\n",
        "      if 0 in list(self.vocab[word].keys()):\r\n",
        "        self.prob_neg_words[word] = (self.vocab[word][0] + self.alpha) / (self.neg_score + (self.alpha * len(Vectorizer.get_feature_names())))\r\n",
        "        #print(word, self.prob_neg_words[word], 'neg')\r\n",
        "      else:\r\n",
        "        self.prob_neg_words[word] = 0\r\n",
        "      \r\n",
        "    pos_labels = list(Y).count(1)\r\n",
        "    neg_labels = list(Y).count(0)\r\n",
        "\r\n",
        "    self.pos_prior = pos_labels / len(list(Y))\r\n",
        "    self.neg_prior = neg_labels / len(list(Y))\r\n",
        "\r\n",
        "  def predict(self, X):\r\n",
        "    '''\r\n",
        "    Input a csr_matrix containing preprocessed tweets.\r\n",
        "    '''\r\n",
        "    pos_prob = self.pos_prior\r\n",
        "    neg_prob = self.neg_prior\r\n",
        "    y_true=[]\r\n",
        "    for i in range(len(X)):\r\n",
        "      for word in X[i].split():\r\n",
        "        #print(word, i)\r\n",
        "        if word in list(self.prob_pos_words.keys()) and self.prob_pos_words[word]>0:\r\n",
        "          pos_prob *= self.prob_pos_words[word]\r\n",
        "          #print(1)\r\n",
        "        else:\r\n",
        "          pos_prob *= self.alpha / (self.alpha * len(self.vocab))\r\n",
        "        \r\n",
        "        if word in list(self.prob_neg_words.keys()) and self.prob_neg_words[word]>0:\r\n",
        "          neg_prob *= self.prob_neg_words[word]\r\n",
        "        else:\r\n",
        "          neg_prob *= self.alpha / (self.alpha * len(self.vocab))\r\n",
        "        \r\n",
        "      if pos_prob >= neg_prob:\r\n",
        "        y_true.append(1)\r\n",
        "      else:\r\n",
        "        y_true.append(0)\r\n",
        "      #print(pos_prob, neg_prob)\r\n",
        "    return y_true\r\n",
        "\r\n",
        "  \r\n",
        "  def evaluate(self, x_test, y_test):\r\n",
        "    \r\n",
        "    y_pred = self.predict(x_test)\r\n",
        "    print(classification_report(y_test, y_pred))\r\n",
        "\r\n",
        "    cf_matrix = confusion_matrix(y_test, y_pred)\r\n",
        "\r\n",
        "    categories  = ['Negative','Positive']\r\n",
        "    group_names = ['True Neg','False Pos', 'False Neg','True Pos']\r\n",
        "    group_percentages = ['{0:.2%}'.format(value) for value in cf_matrix.flatten() / np.sum(cf_matrix)]\r\n",
        "\r\n",
        "    labels = [f'{v1}\\n{v2}' for v1, v2 in zip(group_names,group_percentages)]\r\n",
        "    labels = np.asarray(labels).reshape(2,2)\r\n",
        "\r\n",
        "    sns.heatmap(cf_matrix, annot = labels, cmap = 'Blues',fmt = '',\r\n",
        "                xticklabels = categories, yticklabels = categories)\r\n",
        "\r\n",
        "    plt.xlabel(\"Predicted values\", fontdict = {'size':14}, labelpad = 10)\r\n",
        "    plt.ylabel(\"Actual values\"   , fontdict = {'size':14}, labelpad = 10)\r\n",
        "    plt.title (\"Confusion Matrix\", fontdict = {'size':18}, pad = 20)"
      ],
      "execution_count": 153,
      "outputs": []
    },
    {
      "cell_type": "markdown",
      "metadata": {
        "id": "2Kg6X_YO08cr"
      },
      "source": [
        "### Training"
      ]
    },
    {
      "cell_type": "code",
      "metadata": {
        "id": "v9Tw6QCV0-dD"
      },
      "source": [
        "NB = NaiveBayesAlgo()"
      ],
      "execution_count": 154,
      "outputs": []
    },
    {
      "cell_type": "code",
      "metadata": {
        "id": "0rei3TtPtFDk",
        "colab": {
          "base_uri": "https://localhost:8080/",
          "height": 149,
          "referenced_widgets": [
            "2954de47d33c453a8b511b35ebef4c76",
            "5092abc450d146a7bce0e40ff4f539b9",
            "559ce0307fa14730837b17b920d7d844",
            "33c953a58f2740c3b4a8e37c97d6aa51",
            "9ec72666a543416dbca188e8dd5b465e",
            "d5a7d6f75a79418ebb1ccf90f9ce08c1",
            "1e08238344964add9b6d850c42ff0b94",
            "2a0a272b065d4fefa520a026455e83a7",
            "c63e6a3eedbe49668d78d25517b790a8",
            "bd2f4fe7173a4fe7a5f80a32f8daa256",
            "c98aaaaa45414661863f5fa290daddf4",
            "582a730f76a841e48774c7864bfa660f",
            "ab8f7c6786254e5ca79d05f405f371b8",
            "2f63b954571941a2bf39bac7b1273473",
            "def7cbf1d90743cab5b8ecbf130859f0",
            "ed0f5a1355cb434e9d8c1140c64978fd"
          ]
        },
        "outputId": "b328d2e4-ce0e-41ca-cf8f-feacbd812f61"
      },
      "source": [
        "%%time\r\n",
        "NB.fit(X_train, list(Y_train), Vectorizer, initialize=True)"
      ],
      "execution_count": 155,
      "outputs": [
        {
          "output_type": "display_data",
          "data": {
            "application/vnd.jupyter.widget-view+json": {
              "model_id": "2954de47d33c453a8b511b35ebef4c76",
              "version_minor": 0,
              "version_major": 2
            },
            "text/plain": [
              "HBox(children=(FloatProgress(value=0.0, max=1600.0), HTML(value='')))"
            ]
          },
          "metadata": {
            "tags": []
          }
        },
        {
          "output_type": "stream",
          "text": [
            "\n"
          ],
          "name": "stdout"
        },
        {
          "output_type": "display_data",
          "data": {
            "application/vnd.jupyter.widget-view+json": {
              "model_id": "c63e6a3eedbe49668d78d25517b790a8",
              "version_minor": 0,
              "version_major": 2
            },
            "text/plain": [
              "HBox(children=(FloatProgress(value=0.0, max=1000.0), HTML(value='')))"
            ]
          },
          "metadata": {
            "tags": []
          }
        },
        {
          "output_type": "stream",
          "text": [
            "\n",
            "CPU times: user 2min 56s, sys: 1.06 s, total: 2min 57s\n",
            "Wall time: 2min 59s\n"
          ],
          "name": "stdout"
        }
      ]
    },
    {
      "cell_type": "markdown",
      "metadata": {
        "id": "fulEUnGS0_Bh"
      },
      "source": [
        "### Saving Models"
      ]
    },
    {
      "cell_type": "code",
      "metadata": {
        "id": "xlL76_GM1Ak1"
      },
      "source": [
        "file = open('/gdrive/My Drive/Inductions/vectorizer-ngram_1-2.pickle','wb')\r\n",
        "pickle.dump(Vectorizer, file)\r\n",
        "file.close()\r\n",
        "\r\n",
        "file = open('/gdrive/My Drive/Inductions/Sentiment-BNB.pickle','wb')\r\n",
        "pickle.dump(NB, file)\r\n",
        "file.close()"
      ],
      "execution_count": 167,
      "outputs": []
    },
    {
      "cell_type": "markdown",
      "metadata": {
        "id": "mRGH1s4R0Wea"
      },
      "source": [
        "## Evaluation"
      ]
    },
    {
      "cell_type": "code",
      "metadata": {
        "colab": {
          "base_uri": "https://localhost:8080/",
          "height": 476
        },
        "id": "4K59ro7ktP1S",
        "outputId": "db512900-7da2-48ba-d170-a9b32e675b42"
      },
      "source": [
        "NB.evaluate(X_test, list(Y_test))"
      ],
      "execution_count": 173,
      "outputs": [
        {
          "output_type": "stream",
          "text": [
            "              precision    recall  f1-score   support\n",
            "\n",
            "           0       0.80      0.05      0.10        76\n",
            "           1       0.54      0.99      0.69        84\n",
            "\n",
            "    accuracy                           0.54       160\n",
            "   macro avg       0.67      0.52      0.40       160\n",
            "weighted avg       0.66      0.54      0.41       160\n",
            "\n"
          ],
          "name": "stdout"
        },
        {
          "output_type": "display_data",
          "data": {
            "image/png": "[encoded data removed]",
            "text/plain": [
              "<Figure size 432x288 with 2 Axes>"
            ]
          },
          "metadata": {
            "tags": [],
            "needs_background": "light"
          }
        }
      ]
    },
    {
      "cell_type": "code",
      "metadata": {
        "colab": {
          "base_uri": "https://localhost:8080/"
        },
        "id": "36HL_JMxuy3B",
        "outputId": "fb763817-1309-442a-db55-d1655792f54f"
      },
      "source": [
        "Y_pred = NaiveBayes.predict(X_test)\r\n",
        "print('Naive Bayes Accuracy =', accuracy_score(y_pred=Y_pred, y_true=Y_test))"
      ],
      "execution_count": 176,
      "outputs": [
        {
          "output_type": "stream",
          "text": [
            "Naive Bayes Accuracy = 0.54375\n"
          ],
          "name": "stdout"
        }
      ]
    },
    {
      "cell_type": "markdown",
      "metadata": {
        "id": "WGz9g8SDwdGG"
      },
      "source": [
        "The accuracy that we get is around 55%, which is good, since it's a basic model and also, we are not considering the semantic relation between the words."
      ]
    },
    {
      "cell_type": "markdown",
      "metadata": {
        "id": "k6eBKX0r05ou"
      },
      "source": [
        "## Prediction"
      ]
    },
    {
      "cell_type": "markdown",
      "metadata": {
        "id": "ZRuUCYsP1g8n"
      },
      "source": [
        "### Load Models"
      ]
    },
    {
      "cell_type": "code",
      "metadata": {
        "id": "mdilzY1z1iHR"
      },
      "source": [
        "file = open('/gdrive/My Drive/Inductions/vectorizer-ngram_1-2.pickle', 'rb')\r\n",
        "Vectorizer = pickle.load(file)\r\n",
        "file.close()\r\n",
        "\r\n",
        "file = open('/gdrive/My Drive/Inductions/Sentiment-BNB.pickle', 'rb')\r\n",
        "NaiveBayes = pickle.load(file)\r\n",
        "file.close()"
      ],
      "execution_count": 168,
      "outputs": []
    },
    {
      "cell_type": "markdown",
      "metadata": {
        "id": "XUG-ZN5F1jAV"
      },
      "source": [
        "### Predict"
      ]
    },
    {
      "cell_type": "code",
      "metadata": {
        "id": "_aqoBEdGK27V"
      },
      "source": [
        "text = ['want to compete want hard competition want to rally want to feel the power coming out of the engine want to compete ',\r\n",
        " 'it seems we are stuck on the ground in amarillo they have put ground stop for all flight leaving for denver said update in an hour ',\r\n",
        " 'where the are my pinking shear rarararrarararr babyproofing while cutting stuff make me stick shear random place amp forget them ',\r\n",
        " '0ff t0 the meetin hate when ppl v0lunteer my free time grr ',\r\n",
        " 'reply me pls ',\r\n",
        " 'USER jazz in india is just honda strategy to prove they can make affordable car for the working class it still doesn fit me ',\r\n",
        " 'aah met boy he seems nice im happy now ',\r\n",
        " 'USER URL sport center you guy are too legit to quit wooww ',\r\n",
        " 'USER not bad bit grumpy cause of exam but generally ok ta ',\r\n",
        " 'USER can watch it what is it ']"
      ],
      "execution_count": 171,
      "outputs": []
    },
    {
      "cell_type": "code",
      "metadata": {
        "colab": {
          "base_uri": "https://localhost:8080/",
          "height": 359
        },
        "id": "lm0V6u361kFL",
        "outputId": "4f1907aa-1c27-4e8c-94a5-1ddc3a21c210"
      },
      "source": [
        "sentiment = NaiveBayes.predict(text)\r\n",
        "\r\n",
        "\r\n",
        "data = []\r\n",
        "for text, pred in zip(text, sentiment):\r\n",
        "    data.append((text,pred))\r\n",
        "    \r\n",
        "df = pd.DataFrame(data, columns = ['text','sentiment'])\r\n",
        "df = df.replace([0,1], [\"Negative\",\"Positive\"])\r\n",
        "df"
      ],
      "execution_count": 172,
      "outputs": [
        {
          "output_type": "execute_result",
          "data": {
            "text/html": [
              "<div>\n",
              "<style scoped>\n",
              "    .dataframe tbody tr th:only-of-type {\n",
              "        vertical-align: middle;\n",
              "    }\n",
              "\n",
              "    .dataframe tbody tr th {\n",
              "        vertical-align: top;\n",
              "    }\n",
              "\n",
              "    .dataframe thead th {\n",
              "        text-align: right;\n",
              "    }\n",
              "</style>\n",
              "<table border=\"1\" class=\"dataframe\">\n",
              "  <thead>\n",
              "    <tr style=\"text-align: right;\">\n",
              "      <th></th>\n",
              "      <th>text</th>\n",
              "      <th>sentiment</th>\n",
              "    </tr>\n",
              "  </thead>\n",
              "  <tbody>\n",
              "    <tr>\n",
              "      <th>0</th>\n",
              "      <td>want to compete want hard competition want to ...</td>\n",
              "      <td>Negative</td>\n",
              "    </tr>\n",
              "    <tr>\n",
              "      <th>1</th>\n",
              "      <td>it seems we are stuck on the ground in amarill...</td>\n",
              "      <td>Negative</td>\n",
              "    </tr>\n",
              "    <tr>\n",
              "      <th>2</th>\n",
              "      <td>where the are my pinking shear rarararrarararr...</td>\n",
              "      <td>Negative</td>\n",
              "    </tr>\n",
              "    <tr>\n",
              "      <th>3</th>\n",
              "      <td>0ff t0 the meetin hate when ppl v0lunteer my f...</td>\n",
              "      <td>Negative</td>\n",
              "    </tr>\n",
              "    <tr>\n",
              "      <th>4</th>\n",
              "      <td>reply me pls</td>\n",
              "      <td>Negative</td>\n",
              "    </tr>\n",
              "    <tr>\n",
              "      <th>5</th>\n",
              "      <td>USER jazz in india is just honda strategy to p...</td>\n",
              "      <td>Positive</td>\n",
              "    </tr>\n",
              "    <tr>\n",
              "      <th>6</th>\n",
              "      <td>aah met boy he seems nice im happy now</td>\n",
              "      <td>Positive</td>\n",
              "    </tr>\n",
              "    <tr>\n",
              "      <th>7</th>\n",
              "      <td>USER URL sport center you guy are too legit to...</td>\n",
              "      <td>Positive</td>\n",
              "    </tr>\n",
              "    <tr>\n",
              "      <th>8</th>\n",
              "      <td>USER not bad bit grumpy cause of exam but gene...</td>\n",
              "      <td>Positive</td>\n",
              "    </tr>\n",
              "    <tr>\n",
              "      <th>9</th>\n",
              "      <td>USER can watch it what is it</td>\n",
              "      <td>Positive</td>\n",
              "    </tr>\n",
              "  </tbody>\n",
              "</table>\n",
              "</div>"
            ],
            "text/plain": [
              "                                                text sentiment\n",
              "0  want to compete want hard competition want to ...  Negative\n",
              "1  it seems we are stuck on the ground in amarill...  Negative\n",
              "2  where the are my pinking shear rarararrarararr...  Negative\n",
              "3  0ff t0 the meetin hate when ppl v0lunteer my f...  Negative\n",
              "4                                      reply me pls   Negative\n",
              "5  USER jazz in india is just honda strategy to p...  Positive\n",
              "6            aah met boy he seems nice im happy now   Positive\n",
              "7  USER URL sport center you guy are too legit to...  Positive\n",
              "8  USER not bad bit grumpy cause of exam but gene...  Positive\n",
              "9                      USER can watch it what is it   Positive"
            ]
          },
          "metadata": {
            "tags": []
          },
          "execution_count": 172
        }
      ]
    },
    {
      "cell_type": "code",
      "metadata": {
        "id": "_PZtVsvGK-hz"
      },
      "source": [
        ""
      ],
      "execution_count": null,
      "outputs": []
    },
    {
      "cell_type": "markdown",
      "metadata": {
        "id": "Q5DZUhoVwpmH"
      },
      "source": [
        "## Future Scope"
      ]
    },
    {
      "cell_type": "markdown",
      "metadata": {
        "id": "FMJ3F3j1yzlG"
      },
      "source": [
        "<ol>\r\n",
        "<li>Compute mean, variation of tf-idf values for each class. Compute the prior using a gaussian distribution generated by the above mean and variation. Then, use these values to predict values.</li>\r\n",
        "<li>Algorithm:\r\n",
        "Naive bayes is fast, but inherently performs worse than other algorithms. It may be better to perform feature reduction, and then switch to a discriminative model such as SVM or Logistic Regression</li>\r\n",
        "</ol>"
      ]
    }
  ]
}